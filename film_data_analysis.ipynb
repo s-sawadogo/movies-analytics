{
 "cells": [
  {
   "cell_type": "markdown",
   "id": "a65c2147",
   "metadata": {},
   "source": [
    "# Phase 2 : Analyse des données"
   ]
  },
  {
   "cell_type": "markdown",
   "id": "d74ddf23",
   "metadata": {},
   "source": [
    "L'objectif dans cette phase est d'Analyser les données de MovieLens via le SDK et en déduire des tendances et statistiques clés."
   ]
  },
  {
   "cell_type": "code",
   "execution_count": 2,
   "id": "c53dd297",
   "metadata": {},
   "outputs": [],
   "source": [
    "from sdkForMovies import MovieClient, MovieConfig"
   ]
  },
  {
   "cell_type": "markdown",
   "id": "cbf89832",
   "metadata": {},
   "source": [
    "## Se familiariser avec l'API"
   ]
  },
  {
   "cell_type": "code",
   "execution_count": 3,
   "id": "50dee467",
   "metadata": {},
   "outputs": [
    {
     "name": "stdout",
     "output_type": "stream",
     "text": [
      "MOVIE_API_BASE_URL in MovieConfig init: https://movie-backend-1rhh.onrender.com\n"
     ]
    },
    {
     "data": {
      "text/plain": [
       "{'message': 'API MovieLens opérationnelle'}"
      ]
     },
     "execution_count": 3,
     "metadata": {},
     "output_type": "execute_result"
    }
   ],
   "source": [
    "# Connexion à l'API via le SDK\n",
    "\n",
    "config = MovieConfig(movie_base_url=\"https://movie-backend-1rhh.onrender.com\")\n",
    "client = MovieClient(config=config)\n",
    "\n",
    "# Vérification que l'API est opérationnelle\n",
    "client.health_check()"
   ]
  },
  {
   "cell_type": "code",
   "execution_count": 4,
   "id": "756c501c",
   "metadata": {},
   "outputs": [
    {
     "name": "stdout",
     "output_type": "stream",
     "text": [
      "Titre : Toy Story (1995)\n",
      "Genres : Adventure|Animation|Children|Comedy|Fantasy\n"
     ]
    }
   ],
   "source": [
    "# Récupération d’un film pour test\n",
    "movie = client.get_movie(1)\n",
    "print(f\"Titre : {movie.title}\")\n",
    "print(f\"Genres : {movie.genres}\")"
   ]
  },
  {
   "cell_type": "code",
   "execution_count": 5,
   "id": "8dccfc41",
   "metadata": {},
   "outputs": [
    {
     "data": {
      "application/vnd.microsoft.datawrangler.viewer.v0+json": {
       "columns": [
        {
         "name": "index",
         "rawType": "int64",
         "type": "integer"
        },
        {
         "name": "userId",
         "rawType": "int64",
         "type": "integer"
        },
        {
         "name": "movieId",
         "rawType": "int64",
         "type": "integer"
        },
        {
         "name": "rating",
         "rawType": "float64",
         "type": "float"
        },
        {
         "name": "timestamp",
         "rawType": "int64",
         "type": "integer"
        }
       ],
       "ref": "372f400b-d0e2-437e-8d2f-b619430c90a1",
       "rows": [
        [
         "0",
         "1",
         "1",
         "4.0",
         "964982703"
        ],
        [
         "1",
         "1",
         "3",
         "4.0",
         "964981247"
        ],
        [
         "2",
         "1",
         "6",
         "4.0",
         "964982224"
        ],
        [
         "3",
         "1",
         "47",
         "5.0",
         "964983815"
        ],
        [
         "4",
         "1",
         "50",
         "5.0",
         "964982931"
        ]
       ],
       "shape": {
        "columns": 4,
        "rows": 5
       }
      },
      "text/html": [
       "<div>\n",
       "<style scoped>\n",
       "    .dataframe tbody tr th:only-of-type {\n",
       "        vertical-align: middle;\n",
       "    }\n",
       "\n",
       "    .dataframe tbody tr th {\n",
       "        vertical-align: top;\n",
       "    }\n",
       "\n",
       "    .dataframe thead th {\n",
       "        text-align: right;\n",
       "    }\n",
       "</style>\n",
       "<table border=\"1\" class=\"dataframe\">\n",
       "  <thead>\n",
       "    <tr style=\"text-align: right;\">\n",
       "      <th></th>\n",
       "      <th>userId</th>\n",
       "      <th>movieId</th>\n",
       "      <th>rating</th>\n",
       "      <th>timestamp</th>\n",
       "    </tr>\n",
       "  </thead>\n",
       "  <tbody>\n",
       "    <tr>\n",
       "      <th>0</th>\n",
       "      <td>1</td>\n",
       "      <td>1</td>\n",
       "      <td>4.0</td>\n",
       "      <td>964982703</td>\n",
       "    </tr>\n",
       "    <tr>\n",
       "      <th>1</th>\n",
       "      <td>1</td>\n",
       "      <td>3</td>\n",
       "      <td>4.0</td>\n",
       "      <td>964981247</td>\n",
       "    </tr>\n",
       "    <tr>\n",
       "      <th>2</th>\n",
       "      <td>1</td>\n",
       "      <td>6</td>\n",
       "      <td>4.0</td>\n",
       "      <td>964982224</td>\n",
       "    </tr>\n",
       "    <tr>\n",
       "      <th>3</th>\n",
       "      <td>1</td>\n",
       "      <td>47</td>\n",
       "      <td>5.0</td>\n",
       "      <td>964983815</td>\n",
       "    </tr>\n",
       "    <tr>\n",
       "      <th>4</th>\n",
       "      <td>1</td>\n",
       "      <td>50</td>\n",
       "      <td>5.0</td>\n",
       "      <td>964982931</td>\n",
       "    </tr>\n",
       "  </tbody>\n",
       "</table>\n",
       "</div>"
      ],
      "text/plain": [
       "   userId  movieId  rating  timestamp\n",
       "0       1        1     4.0  964982703\n",
       "1       1        3     4.0  964981247\n",
       "2       1        6     4.0  964982224\n",
       "3       1       47     5.0  964983815\n",
       "4       1       50     5.0  964982931"
      ]
     },
     "execution_count": 5,
     "metadata": {},
     "output_type": "execute_result"
    }
   ],
   "source": [
    "# On récupère une grande portion de la table (à ajuster selon la taille réelle)\n",
    "ratings_df = client.list_ratings(limit=100, output_format=\"pandas\")\n",
    "ratings_df.head()"
   ]
  },
  {
   "cell_type": "code",
   "execution_count": 6,
   "id": "ac003b52",
   "metadata": {},
   "outputs": [
    {
     "name": "stdout",
     "output_type": "stream",
     "text": [
      "<class 'pandas.core.frame.DataFrame'>\n",
      "RangeIndex: 100 entries, 0 to 99\n",
      "Data columns (total 4 columns):\n",
      " #   Column     Non-Null Count  Dtype  \n",
      "---  ------     --------------  -----  \n",
      " 0   userId     100 non-null    int64  \n",
      " 1   movieId    100 non-null    int64  \n",
      " 2   rating     100 non-null    float64\n",
      " 3   timestamp  100 non-null    int64  \n",
      "dtypes: float64(1), int64(3)\n",
      "memory usage: 3.3 KB\n"
     ]
    }
   ],
   "source": [
    "ratings_df.info()"
   ]
  },
  {
   "cell_type": "code",
   "execution_count": 7,
   "id": "9972bf73",
   "metadata": {},
   "outputs": [
    {
     "name": "stdout",
     "output_type": "stream",
     "text": [
      "movie_count=9742 rating_count=100836 tag_count=3683 link_count=9742\n"
     ]
    }
   ],
   "source": [
    "# 1. Récupération des statistiques globales\n",
    "analytics = client.get_analytics()\n",
    "print(analytics)"
   ]
  },
  {
   "cell_type": "code",
   "execution_count": 8,
   "id": "2f5c9360",
   "metadata": {},
   "outputs": [
    {
     "data": {
      "text/plain": [
       "100836"
      ]
     },
     "execution_count": 8,
     "metadata": {},
     "output_type": "execute_result"
    }
   ],
   "source": [
    "total_ratings = analytics.rating_count\n",
    "total_ratings"
   ]
  },
  {
   "cell_type": "code",
   "execution_count": null,
   "id": "d49ac875",
   "metadata": {},
   "outputs": [
    {
     "ename": "HTTPStatusError",
     "evalue": "Client error '422 Unprocessable Entity' for url 'https://movie-backend-xelv.onrender.com/ratings?skip=0&limit=100836'\nFor more information check: https://developer.mozilla.org/en-US/docs/Web/HTTP/Status/422",
     "output_type": "error",
     "traceback": [
      "\u001b[31m---------------------------------------------------------------------------\u001b[39m\n",
      "\u001b[31mHTTPStatusError\u001b[39m                           Traceback (most recent call last)\n",
      "\u001b[36mCell\u001b[39m\u001b[36m \u001b[39m\u001b[32mIn[11]\u001b[39m\u001b[32m, line 1\u001b[39m\n",
      "\u001b[32m----> \u001b[39m\u001b[32m1\u001b[39m complete_ratings_df = \u001b[43mclient\u001b[49m\u001b[43m.\u001b[49m\u001b[43mlist_ratings\u001b[49m\u001b[43m(\u001b[49m\u001b[43mlimit\u001b[49m\u001b[43m=\u001b[49m\u001b[43mtotal_ratings\u001b[49m\u001b[43m,\u001b[49m\u001b[43m \u001b[49m\u001b[43moutput_format\u001b[49m\u001b[43m=\u001b[49m\u001b[33;43m\"\u001b[39;49m\u001b[33;43mpandas\u001b[39;49m\u001b[33;43m\"\u001b[39;49m\u001b[43m)\u001b[49m\n",
      "\u001b[32m      2\u001b[39m complete_ratings_df.head()\n",
      "\n",
      "\u001b[36mFile \u001b[39m\u001b[32m~/Documents/films-analytics/.venv/lib/python3.12/site-packages/filmsdk/film_client.py:80\u001b[39m, in \u001b[36mMovieClient.list_ratings\u001b[39m\u001b[34m(self, skip, limit, movie_id, user_id, min_rating, output_format)\u001b[39m\n",
      "\u001b[32m     78\u001b[39m     params[\u001b[33m\"\u001b[39m\u001b[33mmin_rating\u001b[39m\u001b[33m\"\u001b[39m] = min_rating\n",
      "\u001b[32m     79\u001b[39m response = httpx.get(url, params=params)\n",
      "\u001b[32m---> \u001b[39m\u001b[32m80\u001b[39m \u001b[43mresponse\u001b[49m\u001b[43m.\u001b[49m\u001b[43mraise_for_status\u001b[49m\u001b[43m(\u001b[49m\u001b[43m)\u001b[49m\n",
      "\u001b[32m     81\u001b[39m \u001b[38;5;28;01mreturn\u001b[39;00m \u001b[38;5;28mself\u001b[39m._format_output(response.json(), RatingSimple, output_format)\n",
      "\n",
      "\u001b[36mFile \u001b[39m\u001b[32m~/Documents/films-analytics/.venv/lib/python3.12/site-packages/httpx/_models.py:829\u001b[39m, in \u001b[36mResponse.raise_for_status\u001b[39m\u001b[34m(self)\u001b[39m\n",
      "\u001b[32m    827\u001b[39m error_type = error_types.get(status_class, \u001b[33m\"\u001b[39m\u001b[33mInvalid status code\u001b[39m\u001b[33m\"\u001b[39m)\n",
      "\u001b[32m    828\u001b[39m message = message.format(\u001b[38;5;28mself\u001b[39m, error_type=error_type)\n",
      "\u001b[32m--> \u001b[39m\u001b[32m829\u001b[39m \u001b[38;5;28;01mraise\u001b[39;00m HTTPStatusError(message, request=request, response=\u001b[38;5;28mself\u001b[39m)\n",
      "\n",
      "\u001b[31mHTTPStatusError\u001b[39m: Client error '422 Unprocessable Entity' for url 'https://movie-backend-xelv.onrender.com/ratings?skip=0&limit=100836'\n",
      "For more information check: https://developer.mozilla.org/en-US/docs/Web/HTTP/Status/422"
     ]
    }
   ],
   "source": [
    "complete_ratings_df = client.list_ratings(limit=total_ratings, output_format=\"pandas\")\n",
    "complete_ratings_df.head()"
   ]
  },
  {
   "cell_type": "markdown",
   "id": "f47130ec",
   "metadata": {},
   "source": [
    "**Il est impossible de réquéter toute la base en un seul coup. Il faudra envisager le batch processing (le réquetage par lots).**"
   ]
  },
  {
   "cell_type": "markdown",
   "id": "53edce31",
   "metadata": {},
   "source": [
    "L'erreur signifie que l'API **refuse de traiter ta requête** parce que le paramètre `limit=100836` est trop élevé pour elle. En général, les APIs REST ont une **limite maximale de résultats** que tu peux demander en une seule fois — souvent autour de 100, 500, voire 1000. Cela permet non seulement de préserver les performances de l'API et d'éviter des surcharges côté serveur, mais aussi d'assurer un contrôle sur les accès aux données. C'est là l'un des grands avantages de la mise en place d'APIs : elles permettent de **partager des données de manière sécurisée** et d’**encadrer l’utilisation des ressources**.\n",
    "\n",
    "Ces limites peuvent aussi être mises en place pour des raisons **commerciales**, notamment si l'API est utilisée pour vendre ou monétiser des données. En fixant des limites sur le nombre de résultats ou le nombre d'appels, l'entreprise qui fournit l'API peut contrôler l'accès aux données et éviter des abus tout en gérant ses coûts opérationnels.\n",
    "\n",
    "Cela permet donc de voir les limites de l'API non seulement sous un angle technique et sécuritaire, mais aussi stratégique et commercial."
   ]
  },
  {
   "cell_type": "code",
   "execution_count": 9,
   "id": "39b236dd",
   "metadata": {},
   "outputs": [],
   "source": [
    "import time"
   ]
  },
  {
   "cell_type": "code",
   "execution_count": 10,
   "id": "456cda36",
   "metadata": {},
   "outputs": [],
   "source": [
    "import pandas as pd"
   ]
  },
  {
   "cell_type": "code",
   "execution_count": 13,
   "id": "8ef31a00",
   "metadata": {},
   "outputs": [
    {
     "name": "stdout",
     "output_type": "stream",
     "text": [
      "Téléchargement des lignes 0 à 1000...\n",
      "Téléchargement des lignes 1000 à 2000...\n",
      "Téléchargement des lignes 2000 à 3000...\n",
      "Téléchargement des lignes 3000 à 4000...\n",
      "Téléchargement des lignes 4000 à 5000...\n",
      "Téléchargement des lignes 5000 à 6000...\n",
      "Téléchargement des lignes 6000 à 7000...\n",
      "Téléchargement des lignes 7000 à 8000...\n",
      "Téléchargement des lignes 8000 à 9000...\n",
      "Téléchargement des lignes 9000 à 10000...\n",
      "Téléchargement des lignes 10000 à 11000...\n",
      "Téléchargement des lignes 11000 à 12000...\n",
      "Téléchargement des lignes 12000 à 13000...\n",
      "Téléchargement des lignes 13000 à 14000...\n",
      "Téléchargement des lignes 14000 à 15000...\n",
      "Téléchargement des lignes 15000 à 16000...\n",
      "Téléchargement des lignes 16000 à 17000...\n",
      "Téléchargement des lignes 17000 à 18000...\n",
      "Téléchargement des lignes 18000 à 19000...\n",
      "Téléchargement des lignes 19000 à 20000...\n",
      "Téléchargement des lignes 20000 à 21000...\n",
      "Téléchargement des lignes 21000 à 22000...\n",
      "Téléchargement des lignes 22000 à 23000...\n",
      "Téléchargement des lignes 23000 à 24000...\n",
      "Téléchargement des lignes 24000 à 25000...\n",
      "Téléchargement des lignes 25000 à 26000...\n",
      "Téléchargement des lignes 26000 à 27000...\n",
      "Téléchargement des lignes 27000 à 28000...\n",
      "Téléchargement des lignes 28000 à 29000...\n",
      "Téléchargement des lignes 29000 à 30000...\n",
      "Téléchargement des lignes 30000 à 31000...\n",
      "Téléchargement des lignes 31000 à 32000...\n",
      "Téléchargement des lignes 32000 à 33000...\n",
      "Téléchargement des lignes 33000 à 34000...\n",
      "Téléchargement des lignes 34000 à 35000...\n",
      "Téléchargement des lignes 35000 à 36000...\n",
      "Téléchargement des lignes 36000 à 37000...\n",
      "Téléchargement des lignes 37000 à 38000...\n",
      "Téléchargement des lignes 38000 à 39000...\n",
      "Téléchargement des lignes 39000 à 40000...\n",
      "Téléchargement des lignes 40000 à 41000...\n",
      "Téléchargement des lignes 41000 à 42000...\n",
      "Téléchargement des lignes 42000 à 43000...\n",
      "Téléchargement des lignes 43000 à 44000...\n",
      "Téléchargement des lignes 44000 à 45000...\n",
      "Téléchargement des lignes 45000 à 46000...\n",
      "Téléchargement des lignes 46000 à 47000...\n",
      "Téléchargement des lignes 47000 à 48000...\n",
      "Téléchargement des lignes 48000 à 49000...\n",
      "Téléchargement des lignes 49000 à 50000...\n",
      "Téléchargement des lignes 50000 à 51000...\n",
      "Téléchargement des lignes 51000 à 52000...\n",
      "Téléchargement des lignes 52000 à 53000...\n",
      "Téléchargement des lignes 53000 à 54000...\n",
      "Téléchargement des lignes 54000 à 55000...\n",
      "Téléchargement des lignes 55000 à 56000...\n",
      "Téléchargement des lignes 56000 à 57000...\n",
      "Téléchargement des lignes 57000 à 58000...\n",
      "Téléchargement des lignes 58000 à 59000...\n",
      "Téléchargement des lignes 59000 à 60000...\n",
      "Téléchargement des lignes 60000 à 61000...\n",
      "Téléchargement des lignes 61000 à 62000...\n",
      "Téléchargement des lignes 62000 à 63000...\n",
      "Téléchargement des lignes 63000 à 64000...\n",
      "Téléchargement des lignes 64000 à 65000...\n",
      "Téléchargement des lignes 65000 à 66000...\n",
      "Téléchargement des lignes 66000 à 67000...\n",
      "Téléchargement des lignes 67000 à 68000...\n",
      "Téléchargement des lignes 68000 à 69000...\n",
      "Téléchargement des lignes 69000 à 70000...\n",
      "Téléchargement des lignes 70000 à 71000...\n",
      "Téléchargement des lignes 71000 à 72000...\n",
      "Téléchargement des lignes 72000 à 73000...\n",
      "Téléchargement des lignes 73000 à 74000...\n",
      "Téléchargement des lignes 74000 à 75000...\n",
      "Téléchargement des lignes 75000 à 76000...\n",
      "Téléchargement des lignes 76000 à 77000...\n",
      "Téléchargement des lignes 77000 à 78000...\n",
      "Téléchargement des lignes 78000 à 79000...\n",
      "Téléchargement des lignes 79000 à 80000...\n",
      "Téléchargement des lignes 80000 à 81000...\n",
      "Téléchargement des lignes 81000 à 82000...\n",
      "Téléchargement des lignes 82000 à 83000...\n",
      "Téléchargement des lignes 83000 à 84000...\n",
      "Téléchargement des lignes 84000 à 85000...\n",
      "Téléchargement des lignes 85000 à 86000...\n",
      "Téléchargement des lignes 86000 à 87000...\n",
      "Téléchargement des lignes 87000 à 88000...\n",
      "Téléchargement des lignes 88000 à 89000...\n",
      "Téléchargement des lignes 89000 à 90000...\n",
      "Téléchargement des lignes 90000 à 91000...\n",
      "Téléchargement des lignes 91000 à 92000...\n",
      "Téléchargement des lignes 92000 à 93000...\n",
      "Téléchargement des lignes 93000 à 94000...\n",
      "Téléchargement des lignes 94000 à 95000...\n",
      "Téléchargement des lignes 95000 à 96000...\n",
      "Téléchargement des lignes 96000 à 97000...\n",
      "Téléchargement des lignes 97000 à 98000...\n",
      "Téléchargement des lignes 98000 à 99000...\n",
      "Téléchargement des lignes 99000 à 100000...\n",
      "Téléchargement des lignes 100000 à 101000...\n"
     ]
    },
    {
     "data": {
      "application/vnd.microsoft.datawrangler.viewer.v0+json": {
       "columns": [
        {
         "name": "index",
         "rawType": "int64",
         "type": "integer"
        },
        {
         "name": "userId",
         "rawType": "int64",
         "type": "integer"
        },
        {
         "name": "movieId",
         "rawType": "int64",
         "type": "integer"
        },
        {
         "name": "rating",
         "rawType": "float64",
         "type": "float"
        },
        {
         "name": "timestamp",
         "rawType": "int64",
         "type": "integer"
        }
       ],
       "ref": "f8d345c5-4b76-46e1-9f02-4927029dc58e",
       "rows": [
        [
         "0",
         "1",
         "1",
         "4.0",
         "964982703"
        ],
        [
         "1",
         "1",
         "3",
         "4.0",
         "964981247"
        ],
        [
         "2",
         "1",
         "6",
         "4.0",
         "964982224"
        ],
        [
         "3",
         "1",
         "47",
         "5.0",
         "964983815"
        ],
        [
         "4",
         "1",
         "50",
         "5.0",
         "964982931"
        ],
        [
         "5",
         "1",
         "70",
         "3.0",
         "964982400"
        ],
        [
         "6",
         "1",
         "101",
         "5.0",
         "964980868"
        ],
        [
         "7",
         "1",
         "110",
         "4.0",
         "964982176"
        ],
        [
         "8",
         "1",
         "151",
         "5.0",
         "964984041"
        ],
        [
         "9",
         "1",
         "157",
         "5.0",
         "964984100"
        ],
        [
         "10",
         "1",
         "163",
         "5.0",
         "964983650"
        ],
        [
         "11",
         "1",
         "216",
         "5.0",
         "964981208"
        ],
        [
         "12",
         "1",
         "223",
         "3.0",
         "964980985"
        ],
        [
         "13",
         "1",
         "231",
         "5.0",
         "964981179"
        ],
        [
         "14",
         "1",
         "235",
         "4.0",
         "964980908"
        ],
        [
         "15",
         "1",
         "260",
         "5.0",
         "964981680"
        ],
        [
         "16",
         "1",
         "296",
         "3.0",
         "964982967"
        ],
        [
         "17",
         "1",
         "316",
         "3.0",
         "964982310"
        ],
        [
         "18",
         "1",
         "333",
         "5.0",
         "964981179"
        ],
        [
         "19",
         "1",
         "349",
         "4.0",
         "964982563"
        ],
        [
         "20",
         "1",
         "356",
         "4.0",
         "964980962"
        ],
        [
         "21",
         "1",
         "362",
         "5.0",
         "964982588"
        ],
        [
         "22",
         "1",
         "367",
         "4.0",
         "964981710"
        ],
        [
         "23",
         "1",
         "423",
         "3.0",
         "964982363"
        ],
        [
         "24",
         "1",
         "441",
         "4.0",
         "964980868"
        ],
        [
         "25",
         "1",
         "457",
         "5.0",
         "964981909"
        ],
        [
         "26",
         "1",
         "480",
         "4.0",
         "964982346"
        ],
        [
         "27",
         "1",
         "500",
         "3.0",
         "964981208"
        ],
        [
         "28",
         "1",
         "527",
         "5.0",
         "964984002"
        ],
        [
         "29",
         "1",
         "543",
         "4.0",
         "964981179"
        ],
        [
         "30",
         "1",
         "552",
         "4.0",
         "964982653"
        ],
        [
         "31",
         "1",
         "553",
         "5.0",
         "964984153"
        ],
        [
         "32",
         "1",
         "590",
         "4.0",
         "964982546"
        ],
        [
         "33",
         "1",
         "592",
         "4.0",
         "964982271"
        ],
        [
         "34",
         "1",
         "593",
         "4.0",
         "964983793"
        ],
        [
         "35",
         "1",
         "596",
         "5.0",
         "964982838"
        ],
        [
         "36",
         "1",
         "608",
         "5.0",
         "964982931"
        ],
        [
         "37",
         "1",
         "648",
         "3.0",
         "964982563"
        ],
        [
         "38",
         "1",
         "661",
         "5.0",
         "964982838"
        ],
        [
         "39",
         "1",
         "673",
         "3.0",
         "964981775"
        ],
        [
         "40",
         "1",
         "733",
         "4.0",
         "964982400"
        ],
        [
         "41",
         "1",
         "736",
         "3.0",
         "964982653"
        ],
        [
         "42",
         "1",
         "780",
         "3.0",
         "964984086"
        ],
        [
         "43",
         "1",
         "804",
         "4.0",
         "964980499"
        ],
        [
         "44",
         "1",
         "919",
         "5.0",
         "964982475"
        ],
        [
         "45",
         "1",
         "923",
         "5.0",
         "964981529"
        ],
        [
         "46",
         "1",
         "940",
         "5.0",
         "964982176"
        ],
        [
         "47",
         "1",
         "943",
         "4.0",
         "964983614"
        ],
        [
         "48",
         "1",
         "954",
         "5.0",
         "964983219"
        ],
        [
         "49",
         "1",
         "1009",
         "3.0",
         "964981775"
        ]
       ],
       "shape": {
        "columns": 4,
        "rows": 100836
       }
      },
      "text/html": [
       "<div>\n",
       "<style scoped>\n",
       "    .dataframe tbody tr th:only-of-type {\n",
       "        vertical-align: middle;\n",
       "    }\n",
       "\n",
       "    .dataframe tbody tr th {\n",
       "        vertical-align: top;\n",
       "    }\n",
       "\n",
       "    .dataframe thead th {\n",
       "        text-align: right;\n",
       "    }\n",
       "</style>\n",
       "<table border=\"1\" class=\"dataframe\">\n",
       "  <thead>\n",
       "    <tr style=\"text-align: right;\">\n",
       "      <th></th>\n",
       "      <th>userId</th>\n",
       "      <th>movieId</th>\n",
       "      <th>rating</th>\n",
       "      <th>timestamp</th>\n",
       "    </tr>\n",
       "  </thead>\n",
       "  <tbody>\n",
       "    <tr>\n",
       "      <th>0</th>\n",
       "      <td>1</td>\n",
       "      <td>1</td>\n",
       "      <td>4.0</td>\n",
       "      <td>964982703</td>\n",
       "    </tr>\n",
       "    <tr>\n",
       "      <th>1</th>\n",
       "      <td>1</td>\n",
       "      <td>3</td>\n",
       "      <td>4.0</td>\n",
       "      <td>964981247</td>\n",
       "    </tr>\n",
       "    <tr>\n",
       "      <th>2</th>\n",
       "      <td>1</td>\n",
       "      <td>6</td>\n",
       "      <td>4.0</td>\n",
       "      <td>964982224</td>\n",
       "    </tr>\n",
       "    <tr>\n",
       "      <th>3</th>\n",
       "      <td>1</td>\n",
       "      <td>47</td>\n",
       "      <td>5.0</td>\n",
       "      <td>964983815</td>\n",
       "    </tr>\n",
       "    <tr>\n",
       "      <th>4</th>\n",
       "      <td>1</td>\n",
       "      <td>50</td>\n",
       "      <td>5.0</td>\n",
       "      <td>964982931</td>\n",
       "    </tr>\n",
       "    <tr>\n",
       "      <th>...</th>\n",
       "      <td>...</td>\n",
       "      <td>...</td>\n",
       "      <td>...</td>\n",
       "      <td>...</td>\n",
       "    </tr>\n",
       "    <tr>\n",
       "      <th>100831</th>\n",
       "      <td>610</td>\n",
       "      <td>166534</td>\n",
       "      <td>4.0</td>\n",
       "      <td>1493848402</td>\n",
       "    </tr>\n",
       "    <tr>\n",
       "      <th>100832</th>\n",
       "      <td>610</td>\n",
       "      <td>168248</td>\n",
       "      <td>5.0</td>\n",
       "      <td>1493850091</td>\n",
       "    </tr>\n",
       "    <tr>\n",
       "      <th>100833</th>\n",
       "      <td>610</td>\n",
       "      <td>168250</td>\n",
       "      <td>5.0</td>\n",
       "      <td>1494273047</td>\n",
       "    </tr>\n",
       "    <tr>\n",
       "      <th>100834</th>\n",
       "      <td>610</td>\n",
       "      <td>168252</td>\n",
       "      <td>5.0</td>\n",
       "      <td>1493846352</td>\n",
       "    </tr>\n",
       "    <tr>\n",
       "      <th>100835</th>\n",
       "      <td>610</td>\n",
       "      <td>170875</td>\n",
       "      <td>3.0</td>\n",
       "      <td>1493846415</td>\n",
       "    </tr>\n",
       "  </tbody>\n",
       "</table>\n",
       "<p>100836 rows × 4 columns</p>\n",
       "</div>"
      ],
      "text/plain": [
       "        userId  movieId  rating   timestamp\n",
       "0            1        1     4.0   964982703\n",
       "1            1        3     4.0   964981247\n",
       "2            1        6     4.0   964982224\n",
       "3            1       47     5.0   964983815\n",
       "4            1       50     5.0   964982931\n",
       "...        ...      ...     ...         ...\n",
       "100831     610   166534     4.0  1493848402\n",
       "100832     610   168248     5.0  1493850091\n",
       "100833     610   168250     5.0  1494273047\n",
       "100834     610   168252     5.0  1493846352\n",
       "100835     610   170875     3.0  1493846415\n",
       "\n",
       "[100836 rows x 4 columns]"
      ]
     },
     "execution_count": 13,
     "metadata": {},
     "output_type": "execute_result"
    }
   ],
   "source": [
    "# 1. Récupérer le total d’évaluations\n",
    "total_ratings = client.get_analytics().rating_count\n",
    "batch_size = 1000\n",
    "all_ratings = []\n",
    "\n",
    "# 2. Boucle sur les batches avec pause\n",
    "for skip in range(0, total_ratings, batch_size):\n",
    "    print(f\"Téléchargement des lignes {skip} à {skip + batch_size}...\")\n",
    "    batch_df = client.list_ratings(skip=skip, limit=batch_size, output_format=\"pandas\")\n",
    "    all_ratings.append(batch_df)\n",
    "    time.sleep(0.5)  # pause de 0.5 seconde\n",
    "\n",
    "# 3. Concaténer tous les résultats\n",
    "complete_ratings_df = pd.concat(all_ratings, ignore_index=True)\n",
    "\n",
    "complete_ratings_df"
   ]
  },
  {
   "cell_type": "code",
   "execution_count": 14,
   "id": "a5174e17",
   "metadata": {},
   "outputs": [
    {
     "name": "stdout",
     "output_type": "stream",
     "text": [
      "<class 'pandas.core.frame.DataFrame'>\n",
      "RangeIndex: 100836 entries, 0 to 100835\n",
      "Data columns (total 4 columns):\n",
      " #   Column     Non-Null Count   Dtype  \n",
      "---  ------     --------------   -----  \n",
      " 0   userId     100836 non-null  int64  \n",
      " 1   movieId    100836 non-null  int64  \n",
      " 2   rating     100836 non-null  float64\n",
      " 3   timestamp  100836 non-null  int64  \n",
      "dtypes: float64(1), int64(3)\n",
      "memory usage: 3.1 MB\n"
     ]
    }
   ],
   "source": [
    "complete_ratings_df.info()"
   ]
  },
  {
   "cell_type": "code",
   "execution_count": 15,
   "id": "bd527ff3",
   "metadata": {},
   "outputs": [
    {
     "data": {
      "application/vnd.microsoft.datawrangler.viewer.v0+json": {
       "columns": [
        {
         "name": "index",
         "rawType": "int64",
         "type": "integer"
        },
        {
         "name": "userId",
         "rawType": "int64",
         "type": "integer"
        },
        {
         "name": "rating_count",
         "rawType": "int64",
         "type": "integer"
        }
       ],
       "ref": "5b531007-6d4a-4531-8943-7a9ca08230e7",
       "rows": [
        [
         "0",
         "414",
         "2698"
        ],
        [
         "1",
         "599",
         "2478"
        ],
        [
         "2",
         "474",
         "2108"
        ],
        [
         "3",
         "448",
         "1864"
        ],
        [
         "4",
         "274",
         "1346"
        ],
        [
         "5",
         "610",
         "1302"
        ],
        [
         "6",
         "68",
         "1260"
        ],
        [
         "7",
         "380",
         "1218"
        ],
        [
         "8",
         "606",
         "1115"
        ],
        [
         "9",
         "288",
         "1055"
        ],
        [
         "10",
         "249",
         "1046"
        ],
        [
         "11",
         "387",
         "1027"
        ],
        [
         "12",
         "182",
         "977"
        ],
        [
         "13",
         "307",
         "975"
        ],
        [
         "14",
         "603",
         "943"
        ],
        [
         "15",
         "298",
         "939"
        ],
        [
         "16",
         "177",
         "904"
        ],
        [
         "17",
         "318",
         "879"
        ],
        [
         "18",
         "232",
         "862"
        ],
        [
         "19",
         "480",
         "836"
        ],
        [
         "20",
         "608",
         "831"
        ],
        [
         "21",
         "600",
         "763"
        ],
        [
         "22",
         "590",
         "728"
        ],
        [
         "23",
         "483",
         "728"
        ],
        [
         "24",
         "105",
         "722"
        ],
        [
         "25",
         "19",
         "703"
        ],
        [
         "26",
         "305",
         "677"
        ],
        [
         "27",
         "489",
         "648"
        ],
        [
         "28",
         "111",
         "646"
        ],
        [
         "29",
         "438",
         "635"
        ],
        [
         "30",
         "217",
         "613"
        ],
        [
         "31",
         "140",
         "608"
        ],
        [
         "32",
         "477",
         "600"
        ],
        [
         "33",
         "555",
         "578"
        ],
        [
         "34",
         "91",
         "575"
        ],
        [
         "35",
         "28",
         "570"
        ],
        [
         "36",
         "219",
         "528"
        ],
        [
         "37",
         "534",
         "520"
        ],
        [
         "38",
         "89",
         "518"
        ],
        [
         "39",
         "64",
         "517"
        ],
        [
         "40",
         "226",
         "507"
        ],
        [
         "41",
         "561",
         "505"
        ],
        [
         "42",
         "18",
         "502"
        ],
        [
         "43",
         "525",
         "500"
        ],
        [
         "44",
         "57",
         "476"
        ],
        [
         "45",
         "381",
         "474"
        ],
        [
         "46",
         "368",
         "469"
        ],
        [
         "47",
         "509",
         "467"
        ],
        [
         "48",
         "469",
         "465"
        ],
        [
         "49",
         "560",
         "458"
        ]
       ],
       "shape": {
        "columns": 2,
        "rows": 610
       }
      },
      "text/html": [
       "<div>\n",
       "<style scoped>\n",
       "    .dataframe tbody tr th:only-of-type {\n",
       "        vertical-align: middle;\n",
       "    }\n",
       "\n",
       "    .dataframe tbody tr th {\n",
       "        vertical-align: top;\n",
       "    }\n",
       "\n",
       "    .dataframe thead th {\n",
       "        text-align: right;\n",
       "    }\n",
       "</style>\n",
       "<table border=\"1\" class=\"dataframe\">\n",
       "  <thead>\n",
       "    <tr style=\"text-align: right;\">\n",
       "      <th></th>\n",
       "      <th>userId</th>\n",
       "      <th>rating_count</th>\n",
       "    </tr>\n",
       "  </thead>\n",
       "  <tbody>\n",
       "    <tr>\n",
       "      <th>0</th>\n",
       "      <td>414</td>\n",
       "      <td>2698</td>\n",
       "    </tr>\n",
       "    <tr>\n",
       "      <th>1</th>\n",
       "      <td>599</td>\n",
       "      <td>2478</td>\n",
       "    </tr>\n",
       "    <tr>\n",
       "      <th>2</th>\n",
       "      <td>474</td>\n",
       "      <td>2108</td>\n",
       "    </tr>\n",
       "    <tr>\n",
       "      <th>3</th>\n",
       "      <td>448</td>\n",
       "      <td>1864</td>\n",
       "    </tr>\n",
       "    <tr>\n",
       "      <th>4</th>\n",
       "      <td>274</td>\n",
       "      <td>1346</td>\n",
       "    </tr>\n",
       "    <tr>\n",
       "      <th>...</th>\n",
       "      <td>...</td>\n",
       "      <td>...</td>\n",
       "    </tr>\n",
       "    <tr>\n",
       "      <th>605</th>\n",
       "      <td>442</td>\n",
       "      <td>20</td>\n",
       "    </tr>\n",
       "    <tr>\n",
       "      <th>606</th>\n",
       "      <td>278</td>\n",
       "      <td>20</td>\n",
       "    </tr>\n",
       "    <tr>\n",
       "      <th>607</th>\n",
       "      <td>147</td>\n",
       "      <td>20</td>\n",
       "    </tr>\n",
       "    <tr>\n",
       "      <th>608</th>\n",
       "      <td>320</td>\n",
       "      <td>20</td>\n",
       "    </tr>\n",
       "    <tr>\n",
       "      <th>609</th>\n",
       "      <td>53</td>\n",
       "      <td>20</td>\n",
       "    </tr>\n",
       "  </tbody>\n",
       "</table>\n",
       "<p>610 rows × 2 columns</p>\n",
       "</div>"
      ],
      "text/plain": [
       "     userId  rating_count\n",
       "0       414          2698\n",
       "1       599          2478\n",
       "2       474          2108\n",
       "3       448          1864\n",
       "4       274          1346\n",
       "..      ...           ...\n",
       "605     442            20\n",
       "606     278            20\n",
       "607     147            20\n",
       "608     320            20\n",
       "609      53            20\n",
       "\n",
       "[610 rows x 2 columns]"
      ]
     },
     "execution_count": 15,
     "metadata": {},
     "output_type": "execute_result"
    }
   ],
   "source": [
    "# 4. Agrégation : nombre d’évaluations par utilisateur\n",
    "ratings_per_user = complete_ratings_df['userId'].value_counts().rename_axis('userId').reset_index(name='rating_count')\n",
    "\n",
    "# 5. Affichage\n",
    "ratings_per_user"
   ]
  },
  {
   "cell_type": "code",
   "execution_count": 16,
   "id": "cbb83fb7",
   "metadata": {},
   "outputs": [
    {
     "name": "stdout",
     "output_type": "stream",
     "text": [
      "Traitement du batch 0 à 1000...\n",
      "Traitement du batch 1000 à 2000...\n",
      "Traitement du batch 2000 à 3000...\n",
      "Traitement du batch 3000 à 4000...\n",
      "Traitement du batch 4000 à 5000...\n",
      "Traitement du batch 5000 à 6000...\n",
      "Traitement du batch 6000 à 7000...\n",
      "Traitement du batch 7000 à 8000...\n",
      "Traitement du batch 8000 à 9000...\n",
      "Traitement du batch 9000 à 10000...\n",
      "Traitement du batch 10000 à 11000...\n",
      "Traitement du batch 11000 à 12000...\n",
      "Traitement du batch 12000 à 13000...\n",
      "Traitement du batch 13000 à 14000...\n",
      "Traitement du batch 14000 à 15000...\n",
      "Traitement du batch 15000 à 16000...\n",
      "Traitement du batch 16000 à 17000...\n",
      "Traitement du batch 17000 à 18000...\n",
      "Traitement du batch 18000 à 19000...\n",
      "Traitement du batch 19000 à 20000...\n",
      "Traitement du batch 20000 à 21000...\n",
      "Traitement du batch 21000 à 22000...\n",
      "Traitement du batch 22000 à 23000...\n",
      "Traitement du batch 23000 à 24000...\n",
      "Traitement du batch 24000 à 25000...\n",
      "Traitement du batch 25000 à 26000...\n",
      "Traitement du batch 26000 à 27000...\n",
      "Traitement du batch 27000 à 28000...\n",
      "Traitement du batch 28000 à 29000...\n",
      "Traitement du batch 29000 à 30000...\n",
      "Traitement du batch 30000 à 31000...\n",
      "Traitement du batch 31000 à 32000...\n",
      "Traitement du batch 32000 à 33000...\n",
      "Traitement du batch 33000 à 34000...\n",
      "Traitement du batch 34000 à 35000...\n",
      "Traitement du batch 35000 à 36000...\n",
      "Traitement du batch 36000 à 37000...\n",
      "Traitement du batch 37000 à 38000...\n",
      "Traitement du batch 38000 à 39000...\n",
      "Traitement du batch 39000 à 40000...\n",
      "Traitement du batch 40000 à 41000...\n",
      "Traitement du batch 41000 à 42000...\n",
      "Traitement du batch 42000 à 43000...\n",
      "Traitement du batch 43000 à 44000...\n",
      "Traitement du batch 44000 à 45000...\n",
      "Traitement du batch 45000 à 46000...\n",
      "Traitement du batch 46000 à 47000...\n",
      "Traitement du batch 47000 à 48000...\n",
      "Traitement du batch 48000 à 49000...\n",
      "Traitement du batch 49000 à 50000...\n",
      "Traitement du batch 50000 à 51000...\n",
      "Traitement du batch 51000 à 52000...\n",
      "Traitement du batch 52000 à 53000...\n",
      "Traitement du batch 53000 à 54000...\n",
      "Traitement du batch 54000 à 55000...\n",
      "Traitement du batch 55000 à 56000...\n",
      "Traitement du batch 56000 à 57000...\n",
      "Traitement du batch 57000 à 58000...\n",
      "Traitement du batch 58000 à 59000...\n",
      "Traitement du batch 59000 à 60000...\n",
      "Traitement du batch 60000 à 61000...\n",
      "Traitement du batch 61000 à 62000...\n",
      "Traitement du batch 62000 à 63000...\n",
      "Traitement du batch 63000 à 64000...\n",
      "Traitement du batch 64000 à 65000...\n",
      "Traitement du batch 65000 à 66000...\n",
      "Traitement du batch 66000 à 67000...\n",
      "Traitement du batch 67000 à 68000...\n",
      "Traitement du batch 68000 à 69000...\n",
      "Traitement du batch 69000 à 70000...\n",
      "Traitement du batch 70000 à 71000...\n",
      "Traitement du batch 71000 à 72000...\n",
      "Traitement du batch 72000 à 73000...\n",
      "Traitement du batch 73000 à 74000...\n",
      "Traitement du batch 74000 à 75000...\n",
      "Traitement du batch 75000 à 76000...\n",
      "Traitement du batch 76000 à 77000...\n",
      "Traitement du batch 77000 à 78000...\n",
      "Traitement du batch 78000 à 79000...\n",
      "Traitement du batch 79000 à 80000...\n",
      "Traitement du batch 80000 à 81000...\n",
      "Traitement du batch 81000 à 82000...\n",
      "Traitement du batch 82000 à 83000...\n",
      "Traitement du batch 83000 à 84000...\n",
      "Traitement du batch 84000 à 85000...\n",
      "Traitement du batch 85000 à 86000...\n",
      "Traitement du batch 86000 à 87000...\n",
      "Traitement du batch 87000 à 88000...\n",
      "Traitement du batch 88000 à 89000...\n",
      "Traitement du batch 89000 à 90000...\n",
      "Traitement du batch 90000 à 91000...\n",
      "Traitement du batch 91000 à 92000...\n",
      "Traitement du batch 92000 à 93000...\n",
      "Traitement du batch 93000 à 94000...\n",
      "Traitement du batch 94000 à 95000...\n",
      "Traitement du batch 95000 à 96000...\n",
      "Traitement du batch 96000 à 97000...\n",
      "Traitement du batch 97000 à 98000...\n",
      "Traitement du batch 98000 à 99000...\n",
      "Traitement du batch 99000 à 100000...\n",
      "Traitement du batch 100000 à 101000...\n"
     ]
    },
    {
     "data": {
      "application/vnd.microsoft.datawrangler.viewer.v0+json": {
       "columns": [
        {
         "name": "index",
         "rawType": "int64",
         "type": "integer"
        },
        {
         "name": "userId",
         "rawType": "int64",
         "type": "integer"
        },
        {
         "name": "rating_count",
         "rawType": "int64",
         "type": "integer"
        }
       ],
       "ref": "e0b8d8a4-0b9b-4347-bce2-0ba751517153",
       "rows": [
        [
         "0",
         "6",
         "314"
        ],
        [
         "1",
         "1",
         "232"
        ],
        [
         "2",
         "4",
         "216"
        ],
        [
         "3",
         "7",
         "152"
        ],
        [
         "4",
         "5",
         "44"
        ],
        [
         "5",
         "3",
         "39"
        ],
        [
         "6",
         "2",
         "29"
        ],
        [
         "7",
         "18",
         "502"
        ],
        [
         "8",
         "10",
         "140"
        ],
        [
         "9",
         "15",
         "135"
        ],
        [
         "10",
         "17",
         "105"
        ],
        [
         "11",
         "16",
         "98"
        ],
        [
         "12",
         "11",
         "64"
        ],
        [
         "13",
         "14",
         "48"
        ],
        [
         "14",
         "8",
         "47"
        ],
        [
         "15",
         "9",
         "46"
        ],
        [
         "16",
         "12",
         "32"
        ],
        [
         "17",
         "13",
         "31"
        ],
        [
         "18",
         "19",
         "703"
        ],
        [
         "19",
         "20",
         "242"
        ],
        [
         "20",
         "21",
         "443"
        ],
        [
         "21",
         "23",
         "121"
        ],
        [
         "22",
         "22",
         "119"
        ],
        [
         "23",
         "24",
         "110"
        ],
        [
         "24",
         "28",
         "570"
        ],
        [
         "25",
         "27",
         "135"
        ],
        [
         "26",
         "29",
         "81"
        ],
        [
         "27",
         "32",
         "102"
        ],
        [
         "28",
         "31",
         "50"
        ],
        [
         "29",
         "30",
         "34"
        ],
        [
         "30",
         "25",
         "26"
        ],
        [
         "31",
         "26",
         "21"
        ],
        [
         "32",
         "41",
         "217"
        ],
        [
         "33",
         "33",
         "156"
        ],
        [
         "34",
         "42",
         "440"
        ],
        [
         "35",
         "40",
         "103"
        ],
        [
         "36",
         "39",
         "100"
        ],
        [
         "37",
         "34",
         "86"
        ],
        [
         "38",
         "38",
         "78"
        ],
        [
         "39",
         "36",
         "60"
        ],
        [
         "40",
         "35",
         "23"
        ],
        [
         "41",
         "37",
         "21"
        ],
        [
         "42",
         "45",
         "399"
        ],
        [
         "43",
         "43",
         "114"
        ],
        [
         "44",
         "47",
         "140"
        ],
        [
         "45",
         "44",
         "48"
        ],
        [
         "46",
         "46",
         "42"
        ],
        [
         "47",
         "51",
         "359"
        ],
        [
         "48",
         "50",
         "310"
        ],
        [
         "49",
         "52",
         "130"
        ]
       ],
       "shape": {
        "columns": 2,
        "rows": 610
       }
      },
      "text/html": [
       "<div>\n",
       "<style scoped>\n",
       "    .dataframe tbody tr th:only-of-type {\n",
       "        vertical-align: middle;\n",
       "    }\n",
       "\n",
       "    .dataframe tbody tr th {\n",
       "        vertical-align: top;\n",
       "    }\n",
       "\n",
       "    .dataframe thead th {\n",
       "        text-align: right;\n",
       "    }\n",
       "</style>\n",
       "<table border=\"1\" class=\"dataframe\">\n",
       "  <thead>\n",
       "    <tr style=\"text-align: right;\">\n",
       "      <th></th>\n",
       "      <th>userId</th>\n",
       "      <th>rating_count</th>\n",
       "    </tr>\n",
       "  </thead>\n",
       "  <tbody>\n",
       "    <tr>\n",
       "      <th>0</th>\n",
       "      <td>6</td>\n",
       "      <td>314</td>\n",
       "    </tr>\n",
       "    <tr>\n",
       "      <th>1</th>\n",
       "      <td>1</td>\n",
       "      <td>232</td>\n",
       "    </tr>\n",
       "    <tr>\n",
       "      <th>2</th>\n",
       "      <td>4</td>\n",
       "      <td>216</td>\n",
       "    </tr>\n",
       "    <tr>\n",
       "      <th>3</th>\n",
       "      <td>7</td>\n",
       "      <td>152</td>\n",
       "    </tr>\n",
       "    <tr>\n",
       "      <th>4</th>\n",
       "      <td>5</td>\n",
       "      <td>44</td>\n",
       "    </tr>\n",
       "    <tr>\n",
       "      <th>...</th>\n",
       "      <td>...</td>\n",
       "      <td>...</td>\n",
       "    </tr>\n",
       "    <tr>\n",
       "      <th>605</th>\n",
       "      <td>604</td>\n",
       "      <td>100</td>\n",
       "    </tr>\n",
       "    <tr>\n",
       "      <th>606</th>\n",
       "      <td>608</td>\n",
       "      <td>831</td>\n",
       "    </tr>\n",
       "    <tr>\n",
       "      <th>607</th>\n",
       "      <td>607</td>\n",
       "      <td>187</td>\n",
       "    </tr>\n",
       "    <tr>\n",
       "      <th>608</th>\n",
       "      <td>610</td>\n",
       "      <td>1302</td>\n",
       "    </tr>\n",
       "    <tr>\n",
       "      <th>609</th>\n",
       "      <td>609</td>\n",
       "      <td>37</td>\n",
       "    </tr>\n",
       "  </tbody>\n",
       "</table>\n",
       "<p>610 rows × 2 columns</p>\n",
       "</div>"
      ],
      "text/plain": [
       "     userId  rating_count\n",
       "0         6           314\n",
       "1         1           232\n",
       "2         4           216\n",
       "3         7           152\n",
       "4         5            44\n",
       "..      ...           ...\n",
       "605     604           100\n",
       "606     608           831\n",
       "607     607           187\n",
       "608     610          1302\n",
       "609     609            37\n",
       "\n",
       "[610 rows x 2 columns]"
      ]
     },
     "execution_count": 16,
     "metadata": {},
     "output_type": "execute_result"
    }
   ],
   "source": [
    "# Agréger rating_count par userId, chunk par chunk\n",
    "\n",
    "# 1. Récupérer le total d’évaluations\n",
    "total_ratings = client.get_analytics().rating_count\n",
    "batch_size = 1000\n",
    "\n",
    "# 2. Dictionnaire pour accumuler les totaux par userId\n",
    "from collections import defaultdict\n",
    "user_rating_counts = defaultdict(int)\n",
    "\n",
    "# 3. Parcours des chunks\n",
    "for skip in range(0, total_ratings, batch_size):\n",
    "    print(f\"Traitement du batch {skip} à {skip + batch_size}...\")\n",
    "    batch_df = client.list_ratings(skip=skip, limit=batch_size, output_format=\"pandas\")\n",
    "    \n",
    "    # Comptage des évaluations par utilisateur dans le batch\n",
    "    batch_counts = batch_df['userId'].value_counts()\n",
    "    \n",
    "    # Mise à jour du compteur global\n",
    "    for user_id, count in batch_counts.items():\n",
    "        user_rating_counts[user_id] += count\n",
    "    \n",
    "    time.sleep(0.5)\n",
    "\n",
    "# 4. Conversion en DataFrame finale\n",
    "ratings_per_user = pd.DataFrame(list(user_rating_counts.items()), columns=[\"userId\", \"rating_count\"])\n",
    "\n",
    "ratings_per_user"
   ]
  },
  {
   "cell_type": "code",
   "execution_count": 17,
   "id": "1aaa77a4",
   "metadata": {},
   "outputs": [
    {
     "data": {
      "application/vnd.microsoft.datawrangler.viewer.v0+json": {
       "columns": [
        {
         "name": "index",
         "rawType": "int64",
         "type": "integer"
        },
        {
         "name": "userId",
         "rawType": "int64",
         "type": "integer"
        },
        {
         "name": "rating_count",
         "rawType": "int64",
         "type": "integer"
        }
       ],
       "ref": "ee733e83-d011-4e42-8074-a21512533e08",
       "rows": [
        [
         "410",
         "414",
         "2698"
        ],
        [
         "597",
         "599",
         "2478"
        ],
        [
         "471",
         "474",
         "2108"
        ],
        [
         "438",
         "448",
         "1864"
        ],
        [
         "268",
         "274",
         "1346"
        ],
        [
         "608",
         "610",
         "1302"
        ],
        [
         "66",
         "68",
         "1260"
        ],
        [
         "373",
         "380",
         "1218"
        ],
        [
         "603",
         "606",
         "1115"
        ],
        [
         "287",
         "288",
         "1055"
        ],
        [
         "246",
         "249",
         "1046"
        ],
        [
         "385",
         "387",
         "1027"
        ],
        [
         "181",
         "182",
         "977"
        ],
        [
         "305",
         "307",
         "975"
        ],
        [
         "602",
         "603",
         "943"
        ],
        [
         "294",
         "298",
         "939"
        ],
        [
         "168",
         "177",
         "904"
        ],
        [
         "317",
         "318",
         "879"
        ],
        [
         "227",
         "232",
         "862"
        ],
        [
         "477",
         "480",
         "836"
        ],
        [
         "606",
         "608",
         "831"
        ],
        [
         "599",
         "600",
         "763"
        ],
        [
         "585",
         "590",
         "728"
        ],
        [
         "480",
         "483",
         "728"
        ],
        [
         "104",
         "105",
         "722"
        ],
        [
         "18",
         "19",
         "703"
        ],
        [
         "300",
         "305",
         "677"
        ],
        [
         "484",
         "489",
         "648"
        ],
        [
         "107",
         "111",
         "646"
        ],
        [
         "432",
         "438",
         "635"
        ],
        [
         "211",
         "217",
         "613"
        ],
        [
         "139",
         "140",
         "608"
        ],
        [
         "474",
         "477",
         "600"
        ],
        [
         "552",
         "555",
         "578"
        ],
        [
         "89",
         "91",
         "575"
        ],
        [
         "24",
         "28",
         "570"
        ],
        [
         "217",
         "219",
         "528"
        ],
        [
         "525",
         "534",
         "520"
        ],
        [
         "83",
         "89",
         "518"
        ],
        [
         "62",
         "64",
         "517"
        ],
        [
         "225",
         "226",
         "507"
        ],
        [
         "560",
         "561",
         "505"
        ],
        [
         "7",
         "18",
         "502"
        ],
        [
         "520",
         "525",
         "500"
        ],
        [
         "56",
         "57",
         "476"
        ],
        [
         "380",
         "381",
         "474"
        ],
        [
         "365",
         "368",
         "469"
        ],
        [
         "501",
         "509",
         "467"
        ],
        [
         "463",
         "469",
         "465"
        ],
        [
         "559",
         "560",
         "458"
        ]
       ],
       "shape": {
        "columns": 2,
        "rows": 610
       }
      },
      "text/html": [
       "<div>\n",
       "<style scoped>\n",
       "    .dataframe tbody tr th:only-of-type {\n",
       "        vertical-align: middle;\n",
       "    }\n",
       "\n",
       "    .dataframe tbody tr th {\n",
       "        vertical-align: top;\n",
       "    }\n",
       "\n",
       "    .dataframe thead th {\n",
       "        text-align: right;\n",
       "    }\n",
       "</style>\n",
       "<table border=\"1\" class=\"dataframe\">\n",
       "  <thead>\n",
       "    <tr style=\"text-align: right;\">\n",
       "      <th></th>\n",
       "      <th>userId</th>\n",
       "      <th>rating_count</th>\n",
       "    </tr>\n",
       "  </thead>\n",
       "  <tbody>\n",
       "    <tr>\n",
       "      <th>410</th>\n",
       "      <td>414</td>\n",
       "      <td>2698</td>\n",
       "    </tr>\n",
       "    <tr>\n",
       "      <th>597</th>\n",
       "      <td>599</td>\n",
       "      <td>2478</td>\n",
       "    </tr>\n",
       "    <tr>\n",
       "      <th>471</th>\n",
       "      <td>474</td>\n",
       "      <td>2108</td>\n",
       "    </tr>\n",
       "    <tr>\n",
       "      <th>438</th>\n",
       "      <td>448</td>\n",
       "      <td>1864</td>\n",
       "    </tr>\n",
       "    <tr>\n",
       "      <th>268</th>\n",
       "      <td>274</td>\n",
       "      <td>1346</td>\n",
       "    </tr>\n",
       "    <tr>\n",
       "      <th>...</th>\n",
       "      <td>...</td>\n",
       "      <td>...</td>\n",
       "    </tr>\n",
       "    <tr>\n",
       "      <th>447</th>\n",
       "      <td>442</td>\n",
       "      <td>20</td>\n",
       "    </tr>\n",
       "    <tr>\n",
       "      <th>199</th>\n",
       "      <td>194</td>\n",
       "      <td>20</td>\n",
       "    </tr>\n",
       "    <tr>\n",
       "      <th>206</th>\n",
       "      <td>207</td>\n",
       "      <td>20</td>\n",
       "    </tr>\n",
       "    <tr>\n",
       "      <th>321</th>\n",
       "      <td>320</td>\n",
       "      <td>20</td>\n",
       "    </tr>\n",
       "    <tr>\n",
       "      <th>583</th>\n",
       "      <td>576</td>\n",
       "      <td>20</td>\n",
       "    </tr>\n",
       "  </tbody>\n",
       "</table>\n",
       "<p>610 rows × 2 columns</p>\n",
       "</div>"
      ],
      "text/plain": [
       "     userId  rating_count\n",
       "410     414          2698\n",
       "597     599          2478\n",
       "471     474          2108\n",
       "438     448          1864\n",
       "268     274          1346\n",
       "..      ...           ...\n",
       "447     442            20\n",
       "199     194            20\n",
       "206     207            20\n",
       "321     320            20\n",
       "583     576            20\n",
       "\n",
       "[610 rows x 2 columns]"
      ]
     },
     "execution_count": 17,
     "metadata": {},
     "output_type": "execute_result"
    }
   ],
   "source": [
    "# 5. Tri (optionnel)\n",
    "ratings_per_user = ratings_per_user.sort_values(by=\"rating_count\", ascending=False)\n",
    "\n",
    "# 6. Affichage\n",
    "ratings_per_user"
   ]
  },
  {
   "cell_type": "markdown",
   "id": "b0623857",
   "metadata": {},
   "source": [
    "## Question Business pertinente"
   ]
  },
  {
   "cell_type": "markdown",
   "id": "523ae037",
   "metadata": {},
   "source": [
    "**Quels genres de films les utilisateurs taguent le plus positivement (note ≥ 4.0), et quels sont les tags les plus fréquents associés à ces genres ?**\n",
    "\n",
    "### Pourquoi c’est pertinent ?\n",
    "- Cela permet de **comprendre les préférences des utilisateurs** non seulement à travers les notes, mais aussi via les **tags qualitatifs** qu’ils ajoutent.\n",
    "- Un **analyste marketing** ou un **algorithme de recommandation** peut utiliser cette information pour :\n",
    "  - recommander des films similaires,\n",
    "  - optimiser la classification des films,\n",
    "  - mieux comprendre les \"moods\" ou intentions derrière les notes élevées.\n",
    "\n",
    "---\n",
    "\n",
    "### Données nécessaires (via SDK + API) :\n",
    "- **`ratings`** : pour filtrer sur les évaluations élevées (`rating ≥ 4.0`).\n",
    "- **`tags`** : pour voir quels tags sont utilisés sur les mêmes `(userId, movieId)`.\n",
    "- **`movies`** : pour enrichir avec les genres correspondants.\n",
    "\n",
    "---\n",
    "\n",
    "### Étapes principales :\n",
    "1. Lister toutes les **ratings ≥ 4.0** (en batch si nécessaire).\n",
    "2. Pour chaque `(user_id, movieId)` filtré, essayer de récupérer un **tag** via `client.get_tag(...)` ou en listant tous les tags et croisant.\n",
    "3. Récupérer les **genres du film** via `client.get_movie(movieId)`.\n",
    "4. Agréger : **genre ↔️ tag ↔️ fréquence**."
   ]
  },
  {
   "cell_type": "code",
   "execution_count": 19,
   "id": "c508c38c",
   "metadata": {},
   "outputs": [
    {
     "name": "stdout",
     "output_type": "stream",
     "text": [
      "(48580, 4)\n"
     ]
    },
    {
     "data": {
      "application/vnd.microsoft.datawrangler.viewer.v0+json": {
       "columns": [
        {
         "name": "index",
         "rawType": "int64",
         "type": "integer"
        },
        {
         "name": "userId",
         "rawType": "int64",
         "type": "integer"
        },
        {
         "name": "movieId",
         "rawType": "int64",
         "type": "integer"
        },
        {
         "name": "rating",
         "rawType": "float64",
         "type": "float"
        },
        {
         "name": "timestamp",
         "rawType": "int64",
         "type": "integer"
        }
       ],
       "ref": "fc9b63ce-a429-4332-8a37-4cfb44d75c31",
       "rows": [
        [
         "0",
         "1",
         "1",
         "4.0",
         "964982703"
        ],
        [
         "1",
         "1",
         "3",
         "4.0",
         "964981247"
        ],
        [
         "2",
         "1",
         "6",
         "4.0",
         "964982224"
        ],
        [
         "3",
         "1",
         "47",
         "5.0",
         "964983815"
        ],
        [
         "4",
         "1",
         "50",
         "5.0",
         "964982931"
        ],
        [
         "5",
         "1",
         "101",
         "5.0",
         "964980868"
        ],
        [
         "6",
         "1",
         "110",
         "4.0",
         "964982176"
        ],
        [
         "7",
         "1",
         "151",
         "5.0",
         "964984041"
        ],
        [
         "8",
         "1",
         "157",
         "5.0",
         "964984100"
        ],
        [
         "9",
         "1",
         "163",
         "5.0",
         "964983650"
        ],
        [
         "10",
         "1",
         "216",
         "5.0",
         "964981208"
        ],
        [
         "11",
         "1",
         "231",
         "5.0",
         "964981179"
        ],
        [
         "12",
         "1",
         "235",
         "4.0",
         "964980908"
        ],
        [
         "13",
         "1",
         "260",
         "5.0",
         "964981680"
        ],
        [
         "14",
         "1",
         "333",
         "5.0",
         "964981179"
        ],
        [
         "15",
         "1",
         "349",
         "4.0",
         "964982563"
        ],
        [
         "16",
         "1",
         "356",
         "4.0",
         "964980962"
        ],
        [
         "17",
         "1",
         "362",
         "5.0",
         "964982588"
        ],
        [
         "18",
         "1",
         "367",
         "4.0",
         "964981710"
        ],
        [
         "19",
         "1",
         "441",
         "4.0",
         "964980868"
        ],
        [
         "20",
         "1",
         "457",
         "5.0",
         "964981909"
        ],
        [
         "21",
         "1",
         "480",
         "4.0",
         "964982346"
        ],
        [
         "22",
         "1",
         "527",
         "5.0",
         "964984002"
        ],
        [
         "23",
         "1",
         "543",
         "4.0",
         "964981179"
        ],
        [
         "24",
         "1",
         "552",
         "4.0",
         "964982653"
        ],
        [
         "25",
         "1",
         "553",
         "5.0",
         "964984153"
        ],
        [
         "26",
         "1",
         "590",
         "4.0",
         "964982546"
        ],
        [
         "27",
         "1",
         "592",
         "4.0",
         "964982271"
        ],
        [
         "28",
         "1",
         "593",
         "4.0",
         "964983793"
        ],
        [
         "29",
         "1",
         "596",
         "5.0",
         "964982838"
        ],
        [
         "30",
         "1",
         "608",
         "5.0",
         "964982931"
        ],
        [
         "31",
         "1",
         "661",
         "5.0",
         "964982838"
        ],
        [
         "32",
         "1",
         "733",
         "4.0",
         "964982400"
        ],
        [
         "33",
         "1",
         "804",
         "4.0",
         "964980499"
        ],
        [
         "34",
         "1",
         "919",
         "5.0",
         "964982475"
        ],
        [
         "35",
         "1",
         "923",
         "5.0",
         "964981529"
        ],
        [
         "36",
         "1",
         "940",
         "5.0",
         "964982176"
        ],
        [
         "37",
         "1",
         "943",
         "4.0",
         "964983614"
        ],
        [
         "38",
         "1",
         "954",
         "5.0",
         "964983219"
        ],
        [
         "39",
         "1",
         "1023",
         "5.0",
         "964982681"
        ],
        [
         "40",
         "1",
         "1024",
         "5.0",
         "964982876"
        ],
        [
         "41",
         "1",
         "1025",
         "5.0",
         "964982791"
        ],
        [
         "42",
         "1",
         "1029",
         "5.0",
         "964982855"
        ],
        [
         "43",
         "1",
         "1031",
         "5.0",
         "964982653"
        ],
        [
         "44",
         "1",
         "1032",
         "5.0",
         "964982791"
        ],
        [
         "45",
         "1",
         "1042",
         "4.0",
         "964981179"
        ],
        [
         "46",
         "1",
         "1049",
         "5.0",
         "964982400"
        ],
        [
         "47",
         "1",
         "1060",
         "4.0",
         "964980924"
        ],
        [
         "48",
         "1",
         "1073",
         "5.0",
         "964981680"
        ],
        [
         "49",
         "1",
         "1080",
         "5.0",
         "964981327"
        ]
       ],
       "shape": {
        "columns": 4,
        "rows": 48580
       }
      },
      "text/html": [
       "<div>\n",
       "<style scoped>\n",
       "    .dataframe tbody tr th:only-of-type {\n",
       "        vertical-align: middle;\n",
       "    }\n",
       "\n",
       "    .dataframe tbody tr th {\n",
       "        vertical-align: top;\n",
       "    }\n",
       "\n",
       "    .dataframe thead th {\n",
       "        text-align: right;\n",
       "    }\n",
       "</style>\n",
       "<table border=\"1\" class=\"dataframe\">\n",
       "  <thead>\n",
       "    <tr style=\"text-align: right;\">\n",
       "      <th></th>\n",
       "      <th>userId</th>\n",
       "      <th>movieId</th>\n",
       "      <th>rating</th>\n",
       "      <th>timestamp</th>\n",
       "    </tr>\n",
       "  </thead>\n",
       "  <tbody>\n",
       "    <tr>\n",
       "      <th>0</th>\n",
       "      <td>1</td>\n",
       "      <td>1</td>\n",
       "      <td>4.0</td>\n",
       "      <td>964982703</td>\n",
       "    </tr>\n",
       "    <tr>\n",
       "      <th>1</th>\n",
       "      <td>1</td>\n",
       "      <td>3</td>\n",
       "      <td>4.0</td>\n",
       "      <td>964981247</td>\n",
       "    </tr>\n",
       "    <tr>\n",
       "      <th>2</th>\n",
       "      <td>1</td>\n",
       "      <td>6</td>\n",
       "      <td>4.0</td>\n",
       "      <td>964982224</td>\n",
       "    </tr>\n",
       "    <tr>\n",
       "      <th>3</th>\n",
       "      <td>1</td>\n",
       "      <td>47</td>\n",
       "      <td>5.0</td>\n",
       "      <td>964983815</td>\n",
       "    </tr>\n",
       "    <tr>\n",
       "      <th>4</th>\n",
       "      <td>1</td>\n",
       "      <td>50</td>\n",
       "      <td>5.0</td>\n",
       "      <td>964982931</td>\n",
       "    </tr>\n",
       "    <tr>\n",
       "      <th>...</th>\n",
       "      <td>...</td>\n",
       "      <td>...</td>\n",
       "      <td>...</td>\n",
       "      <td>...</td>\n",
       "    </tr>\n",
       "    <tr>\n",
       "      <th>48575</th>\n",
       "      <td>610</td>\n",
       "      <td>166528</td>\n",
       "      <td>4.0</td>\n",
       "      <td>1493879365</td>\n",
       "    </tr>\n",
       "    <tr>\n",
       "      <th>48576</th>\n",
       "      <td>610</td>\n",
       "      <td>166534</td>\n",
       "      <td>4.0</td>\n",
       "      <td>1493848402</td>\n",
       "    </tr>\n",
       "    <tr>\n",
       "      <th>48577</th>\n",
       "      <td>610</td>\n",
       "      <td>168248</td>\n",
       "      <td>5.0</td>\n",
       "      <td>1493850091</td>\n",
       "    </tr>\n",
       "    <tr>\n",
       "      <th>48578</th>\n",
       "      <td>610</td>\n",
       "      <td>168250</td>\n",
       "      <td>5.0</td>\n",
       "      <td>1494273047</td>\n",
       "    </tr>\n",
       "    <tr>\n",
       "      <th>48579</th>\n",
       "      <td>610</td>\n",
       "      <td>168252</td>\n",
       "      <td>5.0</td>\n",
       "      <td>1493846352</td>\n",
       "    </tr>\n",
       "  </tbody>\n",
       "</table>\n",
       "<p>48580 rows × 4 columns</p>\n",
       "</div>"
      ],
      "text/plain": [
       "       userId  movieId  rating   timestamp\n",
       "0           1        1     4.0   964982703\n",
       "1           1        3     4.0   964981247\n",
       "2           1        6     4.0   964982224\n",
       "3           1       47     5.0   964983815\n",
       "4           1       50     5.0   964982931\n",
       "...       ...      ...     ...         ...\n",
       "48575     610   166528     4.0  1493879365\n",
       "48576     610   166534     4.0  1493848402\n",
       "48577     610   168248     5.0  1493850091\n",
       "48578     610   168250     5.0  1494273047\n",
       "48579     610   168252     5.0  1493846352\n",
       "\n",
       "[48580 rows x 4 columns]"
      ]
     },
     "execution_count": 19,
     "metadata": {},
     "output_type": "execute_result"
    }
   ],
   "source": [
    "# Étape 1 : Récupérer les évaluations élevées (rating >= 4.0) par lots\n",
    "\n",
    "chunk_size = 1000\n",
    "skip = 0\n",
    "all_high_ratings = []\n",
    "\n",
    "while True:\n",
    "    chunk = client.list_ratings(\n",
    "        skip=skip,\n",
    "        limit=chunk_size,\n",
    "        min_rating=4.0,\n",
    "        output_format=\"pandas\"\n",
    "    )\n",
    "    \n",
    "    if chunk.empty:\n",
    "        break\n",
    "    \n",
    "    all_high_ratings.append(chunk)\n",
    "    skip += chunk_size\n",
    "    time.sleep(0.5)  # Pause entre appels pour éviter les erreurs 429\n",
    "\n",
    "# Fusionner tous les chunks\n",
    "high_ratings_df = pd.concat(all_high_ratings, ignore_index=True)\n",
    "print(high_ratings_df.shape)\n",
    "high_ratings_df"
   ]
  },
  {
   "cell_type": "code",
   "execution_count": 20,
   "id": "38acb74e",
   "metadata": {},
   "outputs": [
    {
     "data": {
      "application/vnd.microsoft.datawrangler.viewer.v0+json": {
       "columns": [
        {
         "name": "index",
         "rawType": "int64",
         "type": "integer"
        },
        {
         "name": "userId",
         "rawType": "int64",
         "type": "integer"
        },
        {
         "name": "movieId",
         "rawType": "int64",
         "type": "integer"
        }
       ],
       "ref": "e4268881-8ad3-4472-b180-53d7c19f5c7f",
       "rows": [
        [
         "0",
         "1",
         "1"
        ],
        [
         "1",
         "1",
         "3"
        ],
        [
         "2",
         "1",
         "6"
        ],
        [
         "3",
         "1",
         "47"
        ],
        [
         "4",
         "1",
         "50"
        ],
        [
         "5",
         "1",
         "101"
        ],
        [
         "6",
         "1",
         "110"
        ],
        [
         "7",
         "1",
         "151"
        ],
        [
         "8",
         "1",
         "157"
        ],
        [
         "9",
         "1",
         "163"
        ],
        [
         "10",
         "1",
         "216"
        ],
        [
         "11",
         "1",
         "231"
        ],
        [
         "12",
         "1",
         "235"
        ],
        [
         "13",
         "1",
         "260"
        ],
        [
         "14",
         "1",
         "333"
        ],
        [
         "15",
         "1",
         "349"
        ],
        [
         "16",
         "1",
         "356"
        ],
        [
         "17",
         "1",
         "362"
        ],
        [
         "18",
         "1",
         "367"
        ],
        [
         "19",
         "1",
         "441"
        ],
        [
         "20",
         "1",
         "457"
        ],
        [
         "21",
         "1",
         "480"
        ],
        [
         "22",
         "1",
         "527"
        ],
        [
         "23",
         "1",
         "543"
        ],
        [
         "24",
         "1",
         "552"
        ],
        [
         "25",
         "1",
         "553"
        ],
        [
         "26",
         "1",
         "590"
        ],
        [
         "27",
         "1",
         "592"
        ],
        [
         "28",
         "1",
         "593"
        ],
        [
         "29",
         "1",
         "596"
        ],
        [
         "30",
         "1",
         "608"
        ],
        [
         "31",
         "1",
         "661"
        ],
        [
         "32",
         "1",
         "733"
        ],
        [
         "33",
         "1",
         "804"
        ],
        [
         "34",
         "1",
         "919"
        ],
        [
         "35",
         "1",
         "923"
        ],
        [
         "36",
         "1",
         "940"
        ],
        [
         "37",
         "1",
         "943"
        ],
        [
         "38",
         "1",
         "954"
        ],
        [
         "39",
         "1",
         "1023"
        ],
        [
         "40",
         "1",
         "1024"
        ],
        [
         "41",
         "1",
         "1025"
        ],
        [
         "42",
         "1",
         "1029"
        ],
        [
         "43",
         "1",
         "1031"
        ],
        [
         "44",
         "1",
         "1032"
        ],
        [
         "45",
         "1",
         "1042"
        ],
        [
         "46",
         "1",
         "1049"
        ],
        [
         "47",
         "1",
         "1060"
        ],
        [
         "48",
         "1",
         "1073"
        ],
        [
         "49",
         "1",
         "1080"
        ]
       ],
       "shape": {
        "columns": 2,
        "rows": 48580
       }
      },
      "text/html": [
       "<div>\n",
       "<style scoped>\n",
       "    .dataframe tbody tr th:only-of-type {\n",
       "        vertical-align: middle;\n",
       "    }\n",
       "\n",
       "    .dataframe tbody tr th {\n",
       "        vertical-align: top;\n",
       "    }\n",
       "\n",
       "    .dataframe thead th {\n",
       "        text-align: right;\n",
       "    }\n",
       "</style>\n",
       "<table border=\"1\" class=\"dataframe\">\n",
       "  <thead>\n",
       "    <tr style=\"text-align: right;\">\n",
       "      <th></th>\n",
       "      <th>userId</th>\n",
       "      <th>movieId</th>\n",
       "    </tr>\n",
       "  </thead>\n",
       "  <tbody>\n",
       "    <tr>\n",
       "      <th>0</th>\n",
       "      <td>1</td>\n",
       "      <td>1</td>\n",
       "    </tr>\n",
       "    <tr>\n",
       "      <th>1</th>\n",
       "      <td>1</td>\n",
       "      <td>3</td>\n",
       "    </tr>\n",
       "    <tr>\n",
       "      <th>2</th>\n",
       "      <td>1</td>\n",
       "      <td>6</td>\n",
       "    </tr>\n",
       "    <tr>\n",
       "      <th>3</th>\n",
       "      <td>1</td>\n",
       "      <td>47</td>\n",
       "    </tr>\n",
       "    <tr>\n",
       "      <th>4</th>\n",
       "      <td>1</td>\n",
       "      <td>50</td>\n",
       "    </tr>\n",
       "    <tr>\n",
       "      <th>...</th>\n",
       "      <td>...</td>\n",
       "      <td>...</td>\n",
       "    </tr>\n",
       "    <tr>\n",
       "      <th>48575</th>\n",
       "      <td>610</td>\n",
       "      <td>166528</td>\n",
       "    </tr>\n",
       "    <tr>\n",
       "      <th>48576</th>\n",
       "      <td>610</td>\n",
       "      <td>166534</td>\n",
       "    </tr>\n",
       "    <tr>\n",
       "      <th>48577</th>\n",
       "      <td>610</td>\n",
       "      <td>168248</td>\n",
       "    </tr>\n",
       "    <tr>\n",
       "      <th>48578</th>\n",
       "      <td>610</td>\n",
       "      <td>168250</td>\n",
       "    </tr>\n",
       "    <tr>\n",
       "      <th>48579</th>\n",
       "      <td>610</td>\n",
       "      <td>168252</td>\n",
       "    </tr>\n",
       "  </tbody>\n",
       "</table>\n",
       "<p>48580 rows × 2 columns</p>\n",
       "</div>"
      ],
      "text/plain": [
       "       userId  movieId\n",
       "0           1        1\n",
       "1           1        3\n",
       "2           1        6\n",
       "3           1       47\n",
       "4           1       50\n",
       "...       ...      ...\n",
       "48575     610   166528\n",
       "48576     610   166534\n",
       "48577     610   168248\n",
       "48578     610   168250\n",
       "48579     610   168252\n",
       "\n",
       "[48580 rows x 2 columns]"
      ]
     },
     "execution_count": 20,
     "metadata": {},
     "output_type": "execute_result"
    }
   ],
   "source": [
    "# Étape 2 : Identifier les couples (userId, movieId) uniques\n",
    "\n",
    "user_movie_pairs = high_ratings_df[['userId', 'movieId']].drop_duplicates()\n",
    "user_movie_pairs"
   ]
  },
  {
   "cell_type": "markdown",
   "id": "fe7f4f25",
   "metadata": {},
   "source": [
    "### **Voyons ce que cela donne avec duckdb**"
   ]
  },
  {
   "cell_type": "code",
   "execution_count": 28,
   "id": "642448d2",
   "metadata": {},
   "outputs": [
    {
     "data": {
      "text/plain": [
       "┌────────────────────────────┐\n",
       "│ count((userId || movieId)) │\n",
       "│           int64            │\n",
       "├────────────────────────────┤\n",
       "│                      48580 │\n",
       "└────────────────────────────┘"
      ]
     },
     "execution_count": 28,
     "metadata": {},
     "output_type": "execute_result"
    }
   ],
   "source": [
    "import duckdb\n",
    "duckdb.sql(\"\"\" SELECT COUNT(userId||movieId) FROM high_ratings_df;\n",
    "\"\"\")"
   ]
  },
  {
   "cell_type": "code",
   "execution_count": null,
   "id": "251687d5",
   "metadata": {},
   "outputs": [
    {
     "data": {
      "text/plain": [
       "┌─────────────────────────────────────┐\n",
       "│ count(DISTINCT (userId || movieId)) │\n",
       "│                int64                │\n",
       "├─────────────────────────────────────┤\n",
       "│                               48485 │\n",
       "└─────────────────────────────────────┘"
      ]
     },
     "execution_count": 29,
     "metadata": {},
     "output_type": "execute_result"
    }
   ],
   "source": [
    "duckdb.sql(\"\"\" SELECT COUNT( distinct userId||movieId) FROM high_ratings_df;\n",
    "\"\"\")"
   ]
  },
  {
   "cell_type": "code",
   "execution_count": 30,
   "id": "c6699738",
   "metadata": {},
   "outputs": [
    {
     "data": {
      "application/vnd.microsoft.datawrangler.viewer.v0+json": {
       "columns": [
        {
         "name": "index",
         "rawType": "int64",
         "type": "integer"
        },
        {
         "name": "userId",
         "rawType": "int64",
         "type": "integer"
        },
        {
         "name": "movieId",
         "rawType": "int64",
         "type": "integer"
        },
        {
         "name": "tag",
         "rawType": "object",
         "type": "string"
        },
        {
         "name": "timestamp",
         "rawType": "int64",
         "type": "integer"
        }
       ],
       "ref": "4f767c1c-8426-4b28-bb4a-8d423bca3a58",
       "rows": [
        [
         "0",
         "2",
         "60756",
         "funny",
         "1445714994"
        ],
        [
         "1",
         "2",
         "60756",
         "Highly quotable",
         "1445714996"
        ],
        [
         "2",
         "2",
         "60756",
         "will ferrell",
         "1445714992"
        ],
        [
         "3",
         "2",
         "89774",
         "Boxing story",
         "1445715207"
        ],
        [
         "4",
         "2",
         "89774",
         "MMA",
         "1445715200"
        ],
        [
         "5",
         "2",
         "89774",
         "Tom Hardy",
         "1445715205"
        ],
        [
         "6",
         "2",
         "106782",
         "drugs",
         "1445715054"
        ],
        [
         "7",
         "2",
         "106782",
         "Leonardo DiCaprio",
         "1445715051"
        ],
        [
         "8",
         "2",
         "106782",
         "Martin Scorsese",
         "1445715056"
        ],
        [
         "9",
         "7",
         "48516",
         "way too long",
         "1169687325"
        ],
        [
         "10",
         "18",
         "431",
         "Al Pacino",
         "1462138765"
        ],
        [
         "11",
         "18",
         "431",
         "gangster",
         "1462138749"
        ],
        [
         "12",
         "18",
         "431",
         "mafia",
         "1462138755"
        ],
        [
         "13",
         "18",
         "1221",
         "Al Pacino",
         "1461699306"
        ],
        [
         "14",
         "18",
         "1221",
         "Mafia",
         "1461699303"
        ],
        [
         "15",
         "18",
         "5995",
         "holocaust",
         "1455735472"
        ],
        [
         "16",
         "18",
         "5995",
         "true story",
         "1455735479"
        ],
        [
         "17",
         "18",
         "44665",
         "twist ending",
         "1456948283"
        ],
        [
         "18",
         "18",
         "52604",
         "Anthony Hopkins",
         "1457650696"
        ],
        [
         "19",
         "18",
         "52604",
         "courtroom drama",
         "1457650711"
        ],
        [
         "20",
         "18",
         "52604",
         "twist ending",
         "1457650682"
        ],
        [
         "21",
         "18",
         "88094",
         "britpop",
         "1457444500"
        ],
        [
         "22",
         "18",
         "88094",
         "indie record label",
         "1457444592"
        ],
        [
         "23",
         "18",
         "88094",
         "music",
         "1457444609"
        ],
        [
         "24",
         "18",
         "144210",
         "dumpster diving",
         "1455060381"
        ],
        [
         "25",
         "18",
         "144210",
         "Sustainability",
         "1455060452"
        ],
        [
         "26",
         "21",
         "1569",
         "romantic comedy",
         "1419805413"
        ],
        [
         "27",
         "21",
         "1569",
         "wedding",
         "1419805419"
        ],
        [
         "28",
         "21",
         "118985",
         "painter",
         "1419805477"
        ],
        [
         "29",
         "21",
         "119141",
         "bloody",
         "1419793962"
        ],
        [
         "30",
         "49",
         "109487",
         "black hole",
         "1493093306"
        ],
        [
         "31",
         "49",
         "109487",
         "sci-fi",
         "1493093332"
        ],
        [
         "32",
         "49",
         "109487",
         "time-travel",
         "1493093356"
        ],
        [
         "33",
         "62",
         "2",
         "fantasy",
         "1528843929"
        ],
        [
         "34",
         "62",
         "2",
         "magic board game",
         "1528843932"
        ],
        [
         "35",
         "62",
         "2",
         "Robin Williams",
         "1528843907"
        ],
        [
         "36",
         "62",
         "110",
         "beautiful scenery",
         "1528152541"
        ],
        [
         "37",
         "62",
         "110",
         "epic",
         "1528152532"
        ],
        [
         "38",
         "62",
         "110",
         "historical",
         "1528152523"
        ],
        [
         "39",
         "62",
         "110",
         "inspirational",
         "1528152527"
        ],
        [
         "40",
         "62",
         "110",
         "Medieval",
         "1528152528"
        ],
        [
         "41",
         "62",
         "110",
         "mel gibson",
         "1528152521"
        ],
        [
         "42",
         "62",
         "110",
         "Oscar (Best Cinematography)",
         "1528152539"
        ],
        [
         "43",
         "62",
         "110",
         "revenge",
         "1528152531"
        ],
        [
         "44",
         "62",
         "110",
         "sword fight",
         "1528152535"
        ],
        [
         "45",
         "62",
         "410",
         "black comedy",
         "1525636607"
        ],
        [
         "46",
         "62",
         "410",
         "Christina Ricci",
         "1525636685"
        ],
        [
         "47",
         "62",
         "410",
         "Christopher Lloyd",
         "1525636622"
        ],
        [
         "48",
         "62",
         "410",
         "dark comedy",
         "1525636610"
        ],
        [
         "49",
         "62",
         "410",
         "family",
         "1525636708"
        ]
       ],
       "shape": {
        "columns": 4,
        "rows": 3683
       }
      },
      "text/html": [
       "<div>\n",
       "<style scoped>\n",
       "    .dataframe tbody tr th:only-of-type {\n",
       "        vertical-align: middle;\n",
       "    }\n",
       "\n",
       "    .dataframe tbody tr th {\n",
       "        vertical-align: top;\n",
       "    }\n",
       "\n",
       "    .dataframe thead th {\n",
       "        text-align: right;\n",
       "    }\n",
       "</style>\n",
       "<table border=\"1\" class=\"dataframe\">\n",
       "  <thead>\n",
       "    <tr style=\"text-align: right;\">\n",
       "      <th></th>\n",
       "      <th>userId</th>\n",
       "      <th>movieId</th>\n",
       "      <th>tag</th>\n",
       "      <th>timestamp</th>\n",
       "    </tr>\n",
       "  </thead>\n",
       "  <tbody>\n",
       "    <tr>\n",
       "      <th>0</th>\n",
       "      <td>2</td>\n",
       "      <td>60756</td>\n",
       "      <td>funny</td>\n",
       "      <td>1445714994</td>\n",
       "    </tr>\n",
       "    <tr>\n",
       "      <th>1</th>\n",
       "      <td>2</td>\n",
       "      <td>60756</td>\n",
       "      <td>Highly quotable</td>\n",
       "      <td>1445714996</td>\n",
       "    </tr>\n",
       "    <tr>\n",
       "      <th>2</th>\n",
       "      <td>2</td>\n",
       "      <td>60756</td>\n",
       "      <td>will ferrell</td>\n",
       "      <td>1445714992</td>\n",
       "    </tr>\n",
       "    <tr>\n",
       "      <th>3</th>\n",
       "      <td>2</td>\n",
       "      <td>89774</td>\n",
       "      <td>Boxing story</td>\n",
       "      <td>1445715207</td>\n",
       "    </tr>\n",
       "    <tr>\n",
       "      <th>4</th>\n",
       "      <td>2</td>\n",
       "      <td>89774</td>\n",
       "      <td>MMA</td>\n",
       "      <td>1445715200</td>\n",
       "    </tr>\n",
       "    <tr>\n",
       "      <th>...</th>\n",
       "      <td>...</td>\n",
       "      <td>...</td>\n",
       "      <td>...</td>\n",
       "      <td>...</td>\n",
       "    </tr>\n",
       "    <tr>\n",
       "      <th>3678</th>\n",
       "      <td>606</td>\n",
       "      <td>7382</td>\n",
       "      <td>for katie</td>\n",
       "      <td>1171234019</td>\n",
       "    </tr>\n",
       "    <tr>\n",
       "      <th>3679</th>\n",
       "      <td>606</td>\n",
       "      <td>7936</td>\n",
       "      <td>austere</td>\n",
       "      <td>1173392334</td>\n",
       "    </tr>\n",
       "    <tr>\n",
       "      <th>3680</th>\n",
       "      <td>610</td>\n",
       "      <td>3265</td>\n",
       "      <td>gun fu</td>\n",
       "      <td>1493843984</td>\n",
       "    </tr>\n",
       "    <tr>\n",
       "      <th>3681</th>\n",
       "      <td>610</td>\n",
       "      <td>3265</td>\n",
       "      <td>heroic bloodshed</td>\n",
       "      <td>1493843978</td>\n",
       "    </tr>\n",
       "    <tr>\n",
       "      <th>3682</th>\n",
       "      <td>610</td>\n",
       "      <td>168248</td>\n",
       "      <td>Heroic Bloodshed</td>\n",
       "      <td>1493844270</td>\n",
       "    </tr>\n",
       "  </tbody>\n",
       "</table>\n",
       "<p>3683 rows × 4 columns</p>\n",
       "</div>"
      ],
      "text/plain": [
       "      userId  movieId               tag   timestamp\n",
       "0          2    60756             funny  1445714994\n",
       "1          2    60756   Highly quotable  1445714996\n",
       "2          2    60756      will ferrell  1445714992\n",
       "3          2    89774      Boxing story  1445715207\n",
       "4          2    89774               MMA  1445715200\n",
       "...      ...      ...               ...         ...\n",
       "3678     606     7382         for katie  1171234019\n",
       "3679     606     7936           austere  1173392334\n",
       "3680     610     3265            gun fu  1493843984\n",
       "3681     610     3265  heroic bloodshed  1493843978\n",
       "3682     610   168248  Heroic Bloodshed  1493844270\n",
       "\n",
       "[3683 rows x 4 columns]"
      ]
     },
     "execution_count": 30,
     "metadata": {},
     "output_type": "execute_result"
    }
   ],
   "source": [
    "#  Étape 3 : Récupérer les tags correspondants\n",
    "\n",
    "# Récupération de tous les tags\n",
    "all_tags = []\n",
    "skip = 0\n",
    "chunk_size = 1000\n",
    "while True:\n",
    "    tag_chunk = client.list_tags(skip=skip, limit=chunk_size, output_format=\"pandas\")\n",
    "    if tag_chunk.empty:\n",
    "        break\n",
    "    all_tags.append(tag_chunk)\n",
    "    skip += chunk_size\n",
    "    time.sleep(0.5)\n",
    "\n",
    "all_tags_df = pd.concat(all_tags, ignore_index=True)\n",
    "\n",
    "all_tags_df"
   ]
  },
  {
   "cell_type": "code",
   "execution_count": 31,
   "id": "e01eb8cc",
   "metadata": {},
   "outputs": [
    {
     "name": "stdout",
     "output_type": "stream",
     "text": [
      "(2378, 4)\n"
     ]
    },
    {
     "data": {
      "application/vnd.microsoft.datawrangler.viewer.v0+json": {
       "columns": [
        {
         "name": "index",
         "rawType": "int64",
         "type": "integer"
        },
        {
         "name": "userId",
         "rawType": "int64",
         "type": "integer"
        },
        {
         "name": "movieId",
         "rawType": "int64",
         "type": "integer"
        },
        {
         "name": "tag",
         "rawType": "object",
         "type": "string"
        },
        {
         "name": "timestamp",
         "rawType": "int64",
         "type": "integer"
        }
       ],
       "ref": "1cb57723-7cf9-41da-9d39-82b3c9b757c8",
       "rows": [
        [
         "0",
         "2",
         "60756",
         "funny",
         "1445714994"
        ],
        [
         "1",
         "2",
         "60756",
         "Highly quotable",
         "1445714996"
        ],
        [
         "2",
         "2",
         "60756",
         "will ferrell",
         "1445714992"
        ],
        [
         "3",
         "2",
         "89774",
         "Boxing story",
         "1445715207"
        ],
        [
         "4",
         "2",
         "89774",
         "MMA",
         "1445715200"
        ],
        [
         "5",
         "2",
         "89774",
         "Tom Hardy",
         "1445715205"
        ],
        [
         "6",
         "2",
         "106782",
         "drugs",
         "1445715054"
        ],
        [
         "7",
         "2",
         "106782",
         "Leonardo DiCaprio",
         "1445715051"
        ],
        [
         "8",
         "2",
         "106782",
         "Martin Scorsese",
         "1445715056"
        ],
        [
         "9",
         "18",
         "431",
         "Al Pacino",
         "1462138765"
        ],
        [
         "10",
         "18",
         "431",
         "gangster",
         "1462138749"
        ],
        [
         "11",
         "18",
         "431",
         "mafia",
         "1462138755"
        ],
        [
         "12",
         "18",
         "1221",
         "Al Pacino",
         "1461699306"
        ],
        [
         "13",
         "18",
         "1221",
         "Mafia",
         "1461699303"
        ],
        [
         "14",
         "18",
         "5995",
         "holocaust",
         "1455735472"
        ],
        [
         "15",
         "18",
         "5995",
         "true story",
         "1455735479"
        ],
        [
         "16",
         "18",
         "44665",
         "twist ending",
         "1456948283"
        ],
        [
         "17",
         "18",
         "52604",
         "Anthony Hopkins",
         "1457650696"
        ],
        [
         "18",
         "18",
         "52604",
         "courtroom drama",
         "1457650711"
        ],
        [
         "19",
         "18",
         "52604",
         "twist ending",
         "1457650682"
        ],
        [
         "20",
         "18",
         "144210",
         "dumpster diving",
         "1455060381"
        ],
        [
         "21",
         "18",
         "144210",
         "Sustainability",
         "1455060452"
        ],
        [
         "22",
         "49",
         "109487",
         "black hole",
         "1493093306"
        ],
        [
         "23",
         "49",
         "109487",
         "sci-fi",
         "1493093332"
        ],
        [
         "24",
         "49",
         "109487",
         "time-travel",
         "1493093356"
        ],
        [
         "25",
         "62",
         "2",
         "fantasy",
         "1528843929"
        ],
        [
         "26",
         "62",
         "2",
         "magic board game",
         "1528843932"
        ],
        [
         "27",
         "62",
         "2",
         "Robin Williams",
         "1528843907"
        ],
        [
         "28",
         "62",
         "110",
         "beautiful scenery",
         "1528152541"
        ],
        [
         "29",
         "62",
         "110",
         "epic",
         "1528152532"
        ],
        [
         "30",
         "62",
         "110",
         "historical",
         "1528152523"
        ],
        [
         "31",
         "62",
         "110",
         "inspirational",
         "1528152527"
        ],
        [
         "32",
         "62",
         "110",
         "Medieval",
         "1528152528"
        ],
        [
         "33",
         "62",
         "110",
         "mel gibson",
         "1528152521"
        ],
        [
         "34",
         "62",
         "110",
         "Oscar (Best Cinematography)",
         "1528152539"
        ],
        [
         "35",
         "62",
         "110",
         "revenge",
         "1528152531"
        ],
        [
         "36",
         "62",
         "110",
         "sword fight",
         "1528152535"
        ],
        [
         "37",
         "62",
         "410",
         "black comedy",
         "1525636607"
        ],
        [
         "38",
         "62",
         "410",
         "Christina Ricci",
         "1525636685"
        ],
        [
         "39",
         "62",
         "410",
         "Christopher Lloyd",
         "1525636622"
        ],
        [
         "40",
         "62",
         "410",
         "dark comedy",
         "1525636610"
        ],
        [
         "41",
         "62",
         "410",
         "family",
         "1525636708"
        ],
        [
         "42",
         "62",
         "410",
         "gothic",
         "1525636609"
        ],
        [
         "43",
         "62",
         "2023",
         "Al Pacino",
         "1525636728"
        ],
        [
         "44",
         "62",
         "2023",
         "Andy Garcia",
         "1525636768"
        ],
        [
         "45",
         "62",
         "2023",
         "Classic",
         "1525636752"
        ],
        [
         "46",
         "62",
         "2023",
         "Francis Ford Coppola",
         "1525636752"
        ],
        [
         "47",
         "62",
         "2023",
         "mafia",
         "1525636733"
        ],
        [
         "48",
         "62",
         "2124",
         "black comedy",
         "1525636847"
        ],
        [
         "49",
         "62",
         "2124",
         "Christina Ricci",
         "1525636867"
        ]
       ],
       "shape": {
        "columns": 4,
        "rows": 2378
       }
      },
      "text/html": [
       "<div>\n",
       "<style scoped>\n",
       "    .dataframe tbody tr th:only-of-type {\n",
       "        vertical-align: middle;\n",
       "    }\n",
       "\n",
       "    .dataframe tbody tr th {\n",
       "        vertical-align: top;\n",
       "    }\n",
       "\n",
       "    .dataframe thead th {\n",
       "        text-align: right;\n",
       "    }\n",
       "</style>\n",
       "<table border=\"1\" class=\"dataframe\">\n",
       "  <thead>\n",
       "    <tr style=\"text-align: right;\">\n",
       "      <th></th>\n",
       "      <th>userId</th>\n",
       "      <th>movieId</th>\n",
       "      <th>tag</th>\n",
       "      <th>timestamp</th>\n",
       "    </tr>\n",
       "  </thead>\n",
       "  <tbody>\n",
       "    <tr>\n",
       "      <th>0</th>\n",
       "      <td>2</td>\n",
       "      <td>60756</td>\n",
       "      <td>funny</td>\n",
       "      <td>1445714994</td>\n",
       "    </tr>\n",
       "    <tr>\n",
       "      <th>1</th>\n",
       "      <td>2</td>\n",
       "      <td>60756</td>\n",
       "      <td>Highly quotable</td>\n",
       "      <td>1445714996</td>\n",
       "    </tr>\n",
       "    <tr>\n",
       "      <th>2</th>\n",
       "      <td>2</td>\n",
       "      <td>60756</td>\n",
       "      <td>will ferrell</td>\n",
       "      <td>1445714992</td>\n",
       "    </tr>\n",
       "    <tr>\n",
       "      <th>3</th>\n",
       "      <td>2</td>\n",
       "      <td>89774</td>\n",
       "      <td>Boxing story</td>\n",
       "      <td>1445715207</td>\n",
       "    </tr>\n",
       "    <tr>\n",
       "      <th>4</th>\n",
       "      <td>2</td>\n",
       "      <td>89774</td>\n",
       "      <td>MMA</td>\n",
       "      <td>1445715200</td>\n",
       "    </tr>\n",
       "    <tr>\n",
       "      <th>...</th>\n",
       "      <td>...</td>\n",
       "      <td>...</td>\n",
       "      <td>...</td>\n",
       "      <td>...</td>\n",
       "    </tr>\n",
       "    <tr>\n",
       "      <th>2373</th>\n",
       "      <td>606</td>\n",
       "      <td>6107</td>\n",
       "      <td>World War II</td>\n",
       "      <td>1178473747</td>\n",
       "    </tr>\n",
       "    <tr>\n",
       "      <th>2374</th>\n",
       "      <td>606</td>\n",
       "      <td>7382</td>\n",
       "      <td>for katie</td>\n",
       "      <td>1171234019</td>\n",
       "    </tr>\n",
       "    <tr>\n",
       "      <th>2375</th>\n",
       "      <td>610</td>\n",
       "      <td>3265</td>\n",
       "      <td>gun fu</td>\n",
       "      <td>1493843984</td>\n",
       "    </tr>\n",
       "    <tr>\n",
       "      <th>2376</th>\n",
       "      <td>610</td>\n",
       "      <td>3265</td>\n",
       "      <td>heroic bloodshed</td>\n",
       "      <td>1493843978</td>\n",
       "    </tr>\n",
       "    <tr>\n",
       "      <th>2377</th>\n",
       "      <td>610</td>\n",
       "      <td>168248</td>\n",
       "      <td>Heroic Bloodshed</td>\n",
       "      <td>1493844270</td>\n",
       "    </tr>\n",
       "  </tbody>\n",
       "</table>\n",
       "<p>2378 rows × 4 columns</p>\n",
       "</div>"
      ],
      "text/plain": [
       "      userId  movieId               tag   timestamp\n",
       "0          2    60756             funny  1445714994\n",
       "1          2    60756   Highly quotable  1445714996\n",
       "2          2    60756      will ferrell  1445714992\n",
       "3          2    89774      Boxing story  1445715207\n",
       "4          2    89774               MMA  1445715200\n",
       "...      ...      ...               ...         ...\n",
       "2373     606     6107      World War II  1178473747\n",
       "2374     606     7382         for katie  1171234019\n",
       "2375     610     3265            gun fu  1493843984\n",
       "2376     610     3265  heroic bloodshed  1493843978\n",
       "2377     610   168248  Heroic Bloodshed  1493844270\n",
       "\n",
       "[2378 rows x 4 columns]"
      ]
     },
     "execution_count": 31,
     "metadata": {},
     "output_type": "execute_result"
    }
   ],
   "source": [
    "# Merge avec les high ratings\n",
    "tagged_high_ratings = pd.merge(user_movie_pairs, all_tags_df, on=[\"userId\", \"movieId\"])\n",
    "print(tagged_high_ratings.shape)\n",
    "tagged_high_ratings"
   ]
  },
  {
   "cell_type": "code",
   "execution_count": 32,
   "id": "41cbb0a2",
   "metadata": {},
   "outputs": [
    {
     "name": "stdout",
     "output_type": "stream",
     "text": [
      "(2378, 5)\n"
     ]
    },
    {
     "data": {
      "application/vnd.microsoft.datawrangler.viewer.v0+json": {
       "columns": [
        {
         "name": "index",
         "rawType": "int64",
         "type": "integer"
        },
        {
         "name": "userId",
         "rawType": "int64",
         "type": "integer"
        },
        {
         "name": "movieId",
         "rawType": "int64",
         "type": "integer"
        },
        {
         "name": "tag",
         "rawType": "object",
         "type": "string"
        },
        {
         "name": "timestamp",
         "rawType": "int64",
         "type": "integer"
        },
        {
         "name": "genres",
         "rawType": "object",
         "type": "string"
        }
       ],
       "ref": "a27130a7-4bcc-45de-b772-14d33bd86186",
       "rows": [
        [
         "0",
         "2",
         "60756",
         "funny",
         "1445714994",
         "Comedy"
        ],
        [
         "1",
         "2",
         "60756",
         "Highly quotable",
         "1445714996",
         "Comedy"
        ],
        [
         "2",
         "2",
         "60756",
         "will ferrell",
         "1445714992",
         "Comedy"
        ],
        [
         "3",
         "2",
         "89774",
         "Boxing story",
         "1445715207",
         "Drama"
        ],
        [
         "4",
         "2",
         "89774",
         "MMA",
         "1445715200",
         "Drama"
        ],
        [
         "5",
         "2",
         "89774",
         "Tom Hardy",
         "1445715205",
         "Drama"
        ],
        [
         "6",
         "2",
         "106782",
         "drugs",
         "1445715054",
         "Comedy|Crime|Drama"
        ],
        [
         "7",
         "2",
         "106782",
         "Leonardo DiCaprio",
         "1445715051",
         "Comedy|Crime|Drama"
        ],
        [
         "8",
         "2",
         "106782",
         "Martin Scorsese",
         "1445715056",
         "Comedy|Crime|Drama"
        ],
        [
         "9",
         "18",
         "431",
         "Al Pacino",
         "1462138765",
         "Crime|Drama"
        ],
        [
         "10",
         "18",
         "431",
         "gangster",
         "1462138749",
         "Crime|Drama"
        ],
        [
         "11",
         "18",
         "431",
         "mafia",
         "1462138755",
         "Crime|Drama"
        ],
        [
         "12",
         "18",
         "1221",
         "Al Pacino",
         "1461699306",
         "Crime|Drama"
        ],
        [
         "13",
         "18",
         "1221",
         "Mafia",
         "1461699303",
         "Crime|Drama"
        ],
        [
         "14",
         "18",
         "5995",
         "holocaust",
         "1455735472",
         "Drama|War"
        ],
        [
         "15",
         "18",
         "5995",
         "true story",
         "1455735479",
         "Drama|War"
        ],
        [
         "16",
         "18",
         "44665",
         "twist ending",
         "1456948283",
         "Crime|Drama|Mystery"
        ],
        [
         "17",
         "18",
         "52604",
         "Anthony Hopkins",
         "1457650696",
         "Crime|Drama|Mystery|Thriller"
        ],
        [
         "18",
         "18",
         "52604",
         "courtroom drama",
         "1457650711",
         "Crime|Drama|Mystery|Thriller"
        ],
        [
         "19",
         "18",
         "52604",
         "twist ending",
         "1457650682",
         "Crime|Drama|Mystery|Thriller"
        ],
        [
         "20",
         "18",
         "144210",
         "dumpster diving",
         "1455060381",
         "Documentary"
        ],
        [
         "21",
         "18",
         "144210",
         "Sustainability",
         "1455060452",
         "Documentary"
        ],
        [
         "22",
         "49",
         "109487",
         "black hole",
         "1493093306",
         "Sci-Fi|IMAX"
        ],
        [
         "23",
         "49",
         "109487",
         "sci-fi",
         "1493093332",
         "Sci-Fi|IMAX"
        ],
        [
         "24",
         "49",
         "109487",
         "time-travel",
         "1493093356",
         "Sci-Fi|IMAX"
        ],
        [
         "25",
         "62",
         "2",
         "fantasy",
         "1528843929",
         "Adventure|Children|Fantasy"
        ],
        [
         "26",
         "62",
         "2",
         "magic board game",
         "1528843932",
         "Adventure|Children|Fantasy"
        ],
        [
         "27",
         "62",
         "2",
         "Robin Williams",
         "1528843907",
         "Adventure|Children|Fantasy"
        ],
        [
         "28",
         "62",
         "110",
         "beautiful scenery",
         "1528152541",
         "Action|Drama|War"
        ],
        [
         "29",
         "62",
         "110",
         "epic",
         "1528152532",
         "Action|Drama|War"
        ],
        [
         "30",
         "62",
         "110",
         "historical",
         "1528152523",
         "Action|Drama|War"
        ],
        [
         "31",
         "62",
         "110",
         "inspirational",
         "1528152527",
         "Action|Drama|War"
        ],
        [
         "32",
         "62",
         "110",
         "Medieval",
         "1528152528",
         "Action|Drama|War"
        ],
        [
         "33",
         "62",
         "110",
         "mel gibson",
         "1528152521",
         "Action|Drama|War"
        ],
        [
         "34",
         "62",
         "110",
         "Oscar (Best Cinematography)",
         "1528152539",
         "Action|Drama|War"
        ],
        [
         "35",
         "62",
         "110",
         "revenge",
         "1528152531",
         "Action|Drama|War"
        ],
        [
         "36",
         "62",
         "110",
         "sword fight",
         "1528152535",
         "Action|Drama|War"
        ],
        [
         "37",
         "62",
         "410",
         "black comedy",
         "1525636607",
         "Children|Comedy|Fantasy"
        ],
        [
         "38",
         "62",
         "410",
         "Christina Ricci",
         "1525636685",
         "Children|Comedy|Fantasy"
        ],
        [
         "39",
         "62",
         "410",
         "Christopher Lloyd",
         "1525636622",
         "Children|Comedy|Fantasy"
        ],
        [
         "40",
         "62",
         "410",
         "dark comedy",
         "1525636610",
         "Children|Comedy|Fantasy"
        ],
        [
         "41",
         "62",
         "410",
         "family",
         "1525636708",
         "Children|Comedy|Fantasy"
        ],
        [
         "42",
         "62",
         "410",
         "gothic",
         "1525636609",
         "Children|Comedy|Fantasy"
        ],
        [
         "43",
         "62",
         "2023",
         "Al Pacino",
         "1525636728",
         "Crime|Drama|Mystery|Thriller"
        ],
        [
         "44",
         "62",
         "2023",
         "Andy Garcia",
         "1525636768",
         "Crime|Drama|Mystery|Thriller"
        ],
        [
         "45",
         "62",
         "2023",
         "Classic",
         "1525636752",
         "Crime|Drama|Mystery|Thriller"
        ],
        [
         "46",
         "62",
         "2023",
         "Francis Ford Coppola",
         "1525636752",
         "Crime|Drama|Mystery|Thriller"
        ],
        [
         "47",
         "62",
         "2023",
         "mafia",
         "1525636733",
         "Crime|Drama|Mystery|Thriller"
        ],
        [
         "48",
         "62",
         "2124",
         "black comedy",
         "1525636847",
         "Children|Comedy|Fantasy"
        ],
        [
         "49",
         "62",
         "2124",
         "Christina Ricci",
         "1525636867",
         "Children|Comedy|Fantasy"
        ]
       ],
       "shape": {
        "columns": 5,
        "rows": 2378
       }
      },
      "text/html": [
       "<div>\n",
       "<style scoped>\n",
       "    .dataframe tbody tr th:only-of-type {\n",
       "        vertical-align: middle;\n",
       "    }\n",
       "\n",
       "    .dataframe tbody tr th {\n",
       "        vertical-align: top;\n",
       "    }\n",
       "\n",
       "    .dataframe thead th {\n",
       "        text-align: right;\n",
       "    }\n",
       "</style>\n",
       "<table border=\"1\" class=\"dataframe\">\n",
       "  <thead>\n",
       "    <tr style=\"text-align: right;\">\n",
       "      <th></th>\n",
       "      <th>userId</th>\n",
       "      <th>movieId</th>\n",
       "      <th>tag</th>\n",
       "      <th>timestamp</th>\n",
       "      <th>genres</th>\n",
       "    </tr>\n",
       "  </thead>\n",
       "  <tbody>\n",
       "    <tr>\n",
       "      <th>0</th>\n",
       "      <td>2</td>\n",
       "      <td>60756</td>\n",
       "      <td>funny</td>\n",
       "      <td>1445714994</td>\n",
       "      <td>Comedy</td>\n",
       "    </tr>\n",
       "    <tr>\n",
       "      <th>1</th>\n",
       "      <td>2</td>\n",
       "      <td>60756</td>\n",
       "      <td>Highly quotable</td>\n",
       "      <td>1445714996</td>\n",
       "      <td>Comedy</td>\n",
       "    </tr>\n",
       "    <tr>\n",
       "      <th>2</th>\n",
       "      <td>2</td>\n",
       "      <td>60756</td>\n",
       "      <td>will ferrell</td>\n",
       "      <td>1445714992</td>\n",
       "      <td>Comedy</td>\n",
       "    </tr>\n",
       "    <tr>\n",
       "      <th>3</th>\n",
       "      <td>2</td>\n",
       "      <td>89774</td>\n",
       "      <td>Boxing story</td>\n",
       "      <td>1445715207</td>\n",
       "      <td>Drama</td>\n",
       "    </tr>\n",
       "    <tr>\n",
       "      <th>4</th>\n",
       "      <td>2</td>\n",
       "      <td>89774</td>\n",
       "      <td>MMA</td>\n",
       "      <td>1445715200</td>\n",
       "      <td>Drama</td>\n",
       "    </tr>\n",
       "    <tr>\n",
       "      <th>...</th>\n",
       "      <td>...</td>\n",
       "      <td>...</td>\n",
       "      <td>...</td>\n",
       "      <td>...</td>\n",
       "      <td>...</td>\n",
       "    </tr>\n",
       "    <tr>\n",
       "      <th>2373</th>\n",
       "      <td>606</td>\n",
       "      <td>6107</td>\n",
       "      <td>World War II</td>\n",
       "      <td>1178473747</td>\n",
       "      <td>Drama|War</td>\n",
       "    </tr>\n",
       "    <tr>\n",
       "      <th>2374</th>\n",
       "      <td>606</td>\n",
       "      <td>7382</td>\n",
       "      <td>for katie</td>\n",
       "      <td>1171234019</td>\n",
       "      <td>Drama|Mystery|Thriller</td>\n",
       "    </tr>\n",
       "    <tr>\n",
       "      <th>2375</th>\n",
       "      <td>610</td>\n",
       "      <td>3265</td>\n",
       "      <td>gun fu</td>\n",
       "      <td>1493843984</td>\n",
       "      <td>Action|Crime|Drama|Thriller</td>\n",
       "    </tr>\n",
       "    <tr>\n",
       "      <th>2376</th>\n",
       "      <td>610</td>\n",
       "      <td>3265</td>\n",
       "      <td>heroic bloodshed</td>\n",
       "      <td>1493843978</td>\n",
       "      <td>Action|Crime|Drama|Thriller</td>\n",
       "    </tr>\n",
       "    <tr>\n",
       "      <th>2377</th>\n",
       "      <td>610</td>\n",
       "      <td>168248</td>\n",
       "      <td>Heroic Bloodshed</td>\n",
       "      <td>1493844270</td>\n",
       "      <td>Action|Crime|Thriller</td>\n",
       "    </tr>\n",
       "  </tbody>\n",
       "</table>\n",
       "<p>2378 rows × 5 columns</p>\n",
       "</div>"
      ],
      "text/plain": [
       "      userId  movieId  ...   timestamp                       genres\n",
       "0          2    60756  ...  1445714994                       Comedy\n",
       "1          2    60756  ...  1445714996                       Comedy\n",
       "2          2    60756  ...  1445714992                       Comedy\n",
       "3          2    89774  ...  1445715207                        Drama\n",
       "4          2    89774  ...  1445715200                        Drama\n",
       "...      ...      ...  ...         ...                          ...\n",
       "2373     606     6107  ...  1178473747                    Drama|War\n",
       "2374     606     7382  ...  1171234019       Drama|Mystery|Thriller\n",
       "2375     610     3265  ...  1493843984  Action|Crime|Drama|Thriller\n",
       "2376     610     3265  ...  1493843978  Action|Crime|Drama|Thriller\n",
       "2377     610   168248  ...  1493844270        Action|Crime|Thriller\n",
       "\n",
       "[2378 rows x 5 columns]"
      ]
     },
     "execution_count": 32,
     "metadata": {},
     "output_type": "execute_result"
    }
   ],
   "source": [
    "# Étape 4 : Récupérer les genres associés aux movieId\n",
    "\n",
    "def get_movie_genre(movie_id):\n",
    "    try:\n",
    "        movie = client.get_movie(movie_id)\n",
    "        return movie.genres\n",
    "    except:\n",
    "        return \"\"\n",
    "\n",
    "# Appliquer uniquement aux movieId uniques qu’on a en tags\n",
    "unique_movie_ids = tagged_high_ratings['movieId'].unique()\n",
    "\n",
    "movie_genres = {\n",
    "    movie_id: get_movie_genre(movie_id)\n",
    "    for movie_id in unique_movie_ids\n",
    "}\n",
    "\n",
    "# Ajoutons la colonne genre\n",
    "tagged_high_ratings['genres'] = tagged_high_ratings['movieId'].map(movie_genres)\n",
    "print(tagged_high_ratings.shape)\n",
    "tagged_high_ratings"
   ]
  },
  {
   "cell_type": "code",
   "execution_count": 33,
   "id": "fab0a002",
   "metadata": {},
   "outputs": [
    {
     "data": {
      "application/vnd.microsoft.datawrangler.viewer.v0+json": {
       "columns": [
        {
         "name": "index",
         "rawType": "int64",
         "type": "integer"
        },
        {
         "name": "userId",
         "rawType": "int64",
         "type": "integer"
        },
        {
         "name": "movieId",
         "rawType": "int64",
         "type": "integer"
        },
        {
         "name": "tag",
         "rawType": "object",
         "type": "string"
        },
        {
         "name": "timestamp",
         "rawType": "int64",
         "type": "integer"
        },
        {
         "name": "genres",
         "rawType": "object",
         "type": "string"
        }
       ],
       "ref": "05ccb531-7807-461c-ab69-1c762768db94",
       "rows": [
        [
         "0",
         "2",
         "60756",
         "funny",
         "1445714994",
         "Comedy"
        ],
        [
         "1",
         "2",
         "60756",
         "Highly quotable",
         "1445714996",
         "Comedy"
        ],
        [
         "2",
         "2",
         "60756",
         "will ferrell",
         "1445714992",
         "Comedy"
        ],
        [
         "3",
         "2",
         "89774",
         "Boxing story",
         "1445715207",
         "Drama"
        ],
        [
         "4",
         "2",
         "89774",
         "MMA",
         "1445715200",
         "Drama"
        ],
        [
         "5",
         "2",
         "89774",
         "Tom Hardy",
         "1445715205",
         "Drama"
        ],
        [
         "6",
         "2",
         "106782",
         "drugs",
         "1445715054",
         "Comedy"
        ],
        [
         "6",
         "2",
         "106782",
         "drugs",
         "1445715054",
         "Crime"
        ],
        [
         "6",
         "2",
         "106782",
         "drugs",
         "1445715054",
         "Drama"
        ],
        [
         "7",
         "2",
         "106782",
         "Leonardo DiCaprio",
         "1445715051",
         "Comedy"
        ],
        [
         "7",
         "2",
         "106782",
         "Leonardo DiCaprio",
         "1445715051",
         "Crime"
        ],
        [
         "7",
         "2",
         "106782",
         "Leonardo DiCaprio",
         "1445715051",
         "Drama"
        ],
        [
         "8",
         "2",
         "106782",
         "Martin Scorsese",
         "1445715056",
         "Comedy"
        ],
        [
         "8",
         "2",
         "106782",
         "Martin Scorsese",
         "1445715056",
         "Crime"
        ],
        [
         "8",
         "2",
         "106782",
         "Martin Scorsese",
         "1445715056",
         "Drama"
        ],
        [
         "9",
         "18",
         "431",
         "Al Pacino",
         "1462138765",
         "Crime"
        ],
        [
         "9",
         "18",
         "431",
         "Al Pacino",
         "1462138765",
         "Drama"
        ],
        [
         "10",
         "18",
         "431",
         "gangster",
         "1462138749",
         "Crime"
        ],
        [
         "10",
         "18",
         "431",
         "gangster",
         "1462138749",
         "Drama"
        ],
        [
         "11",
         "18",
         "431",
         "mafia",
         "1462138755",
         "Crime"
        ],
        [
         "11",
         "18",
         "431",
         "mafia",
         "1462138755",
         "Drama"
        ],
        [
         "12",
         "18",
         "1221",
         "Al Pacino",
         "1461699306",
         "Crime"
        ],
        [
         "12",
         "18",
         "1221",
         "Al Pacino",
         "1461699306",
         "Drama"
        ],
        [
         "13",
         "18",
         "1221",
         "Mafia",
         "1461699303",
         "Crime"
        ],
        [
         "13",
         "18",
         "1221",
         "Mafia",
         "1461699303",
         "Drama"
        ],
        [
         "14",
         "18",
         "5995",
         "holocaust",
         "1455735472",
         "Drama"
        ],
        [
         "14",
         "18",
         "5995",
         "holocaust",
         "1455735472",
         "War"
        ],
        [
         "15",
         "18",
         "5995",
         "true story",
         "1455735479",
         "Drama"
        ],
        [
         "15",
         "18",
         "5995",
         "true story",
         "1455735479",
         "War"
        ],
        [
         "16",
         "18",
         "44665",
         "twist ending",
         "1456948283",
         "Crime"
        ],
        [
         "16",
         "18",
         "44665",
         "twist ending",
         "1456948283",
         "Drama"
        ],
        [
         "16",
         "18",
         "44665",
         "twist ending",
         "1456948283",
         "Mystery"
        ],
        [
         "17",
         "18",
         "52604",
         "Anthony Hopkins",
         "1457650696",
         "Crime"
        ],
        [
         "17",
         "18",
         "52604",
         "Anthony Hopkins",
         "1457650696",
         "Drama"
        ],
        [
         "17",
         "18",
         "52604",
         "Anthony Hopkins",
         "1457650696",
         "Mystery"
        ],
        [
         "17",
         "18",
         "52604",
         "Anthony Hopkins",
         "1457650696",
         "Thriller"
        ],
        [
         "18",
         "18",
         "52604",
         "courtroom drama",
         "1457650711",
         "Crime"
        ],
        [
         "18",
         "18",
         "52604",
         "courtroom drama",
         "1457650711",
         "Drama"
        ],
        [
         "18",
         "18",
         "52604",
         "courtroom drama",
         "1457650711",
         "Mystery"
        ],
        [
         "18",
         "18",
         "52604",
         "courtroom drama",
         "1457650711",
         "Thriller"
        ],
        [
         "19",
         "18",
         "52604",
         "twist ending",
         "1457650682",
         "Crime"
        ],
        [
         "19",
         "18",
         "52604",
         "twist ending",
         "1457650682",
         "Drama"
        ],
        [
         "19",
         "18",
         "52604",
         "twist ending",
         "1457650682",
         "Mystery"
        ],
        [
         "19",
         "18",
         "52604",
         "twist ending",
         "1457650682",
         "Thriller"
        ],
        [
         "20",
         "18",
         "144210",
         "dumpster diving",
         "1455060381",
         "Documentary"
        ],
        [
         "21",
         "18",
         "144210",
         "Sustainability",
         "1455060452",
         "Documentary"
        ],
        [
         "22",
         "49",
         "109487",
         "black hole",
         "1493093306",
         "Sci-Fi"
        ],
        [
         "22",
         "49",
         "109487",
         "black hole",
         "1493093306",
         "IMAX"
        ],
        [
         "23",
         "49",
         "109487",
         "sci-fi",
         "1493093332",
         "Sci-Fi"
        ],
        [
         "23",
         "49",
         "109487",
         "sci-fi",
         "1493093332",
         "IMAX"
        ]
       ],
       "shape": {
        "columns": 5,
        "rows": 6664
       }
      },
      "text/html": [
       "<div>\n",
       "<style scoped>\n",
       "    .dataframe tbody tr th:only-of-type {\n",
       "        vertical-align: middle;\n",
       "    }\n",
       "\n",
       "    .dataframe tbody tr th {\n",
       "        vertical-align: top;\n",
       "    }\n",
       "\n",
       "    .dataframe thead th {\n",
       "        text-align: right;\n",
       "    }\n",
       "</style>\n",
       "<table border=\"1\" class=\"dataframe\">\n",
       "  <thead>\n",
       "    <tr style=\"text-align: right;\">\n",
       "      <th></th>\n",
       "      <th>userId</th>\n",
       "      <th>movieId</th>\n",
       "      <th>tag</th>\n",
       "      <th>timestamp</th>\n",
       "      <th>genres</th>\n",
       "    </tr>\n",
       "  </thead>\n",
       "  <tbody>\n",
       "    <tr>\n",
       "      <th>0</th>\n",
       "      <td>2</td>\n",
       "      <td>60756</td>\n",
       "      <td>funny</td>\n",
       "      <td>1445714994</td>\n",
       "      <td>Comedy</td>\n",
       "    </tr>\n",
       "    <tr>\n",
       "      <th>1</th>\n",
       "      <td>2</td>\n",
       "      <td>60756</td>\n",
       "      <td>Highly quotable</td>\n",
       "      <td>1445714996</td>\n",
       "      <td>Comedy</td>\n",
       "    </tr>\n",
       "    <tr>\n",
       "      <th>2</th>\n",
       "      <td>2</td>\n",
       "      <td>60756</td>\n",
       "      <td>will ferrell</td>\n",
       "      <td>1445714992</td>\n",
       "      <td>Comedy</td>\n",
       "    </tr>\n",
       "    <tr>\n",
       "      <th>3</th>\n",
       "      <td>2</td>\n",
       "      <td>89774</td>\n",
       "      <td>Boxing story</td>\n",
       "      <td>1445715207</td>\n",
       "      <td>Drama</td>\n",
       "    </tr>\n",
       "    <tr>\n",
       "      <th>4</th>\n",
       "      <td>2</td>\n",
       "      <td>89774</td>\n",
       "      <td>MMA</td>\n",
       "      <td>1445715200</td>\n",
       "      <td>Drama</td>\n",
       "    </tr>\n",
       "    <tr>\n",
       "      <th>...</th>\n",
       "      <td>...</td>\n",
       "      <td>...</td>\n",
       "      <td>...</td>\n",
       "      <td>...</td>\n",
       "      <td>...</td>\n",
       "    </tr>\n",
       "    <tr>\n",
       "      <th>2376</th>\n",
       "      <td>610</td>\n",
       "      <td>3265</td>\n",
       "      <td>heroic bloodshed</td>\n",
       "      <td>1493843978</td>\n",
       "      <td>Drama</td>\n",
       "    </tr>\n",
       "    <tr>\n",
       "      <th>2376</th>\n",
       "      <td>610</td>\n",
       "      <td>3265</td>\n",
       "      <td>heroic bloodshed</td>\n",
       "      <td>1493843978</td>\n",
       "      <td>Thriller</td>\n",
       "    </tr>\n",
       "    <tr>\n",
       "      <th>2377</th>\n",
       "      <td>610</td>\n",
       "      <td>168248</td>\n",
       "      <td>Heroic Bloodshed</td>\n",
       "      <td>1493844270</td>\n",
       "      <td>Action</td>\n",
       "    </tr>\n",
       "    <tr>\n",
       "      <th>2377</th>\n",
       "      <td>610</td>\n",
       "      <td>168248</td>\n",
       "      <td>Heroic Bloodshed</td>\n",
       "      <td>1493844270</td>\n",
       "      <td>Crime</td>\n",
       "    </tr>\n",
       "    <tr>\n",
       "      <th>2377</th>\n",
       "      <td>610</td>\n",
       "      <td>168248</td>\n",
       "      <td>Heroic Bloodshed</td>\n",
       "      <td>1493844270</td>\n",
       "      <td>Thriller</td>\n",
       "    </tr>\n",
       "  </tbody>\n",
       "</table>\n",
       "<p>6664 rows × 5 columns</p>\n",
       "</div>"
      ],
      "text/plain": [
       "      userId  movieId               tag   timestamp    genres\n",
       "0          2    60756             funny  1445714994    Comedy\n",
       "1          2    60756   Highly quotable  1445714996    Comedy\n",
       "2          2    60756      will ferrell  1445714992    Comedy\n",
       "3          2    89774      Boxing story  1445715207     Drama\n",
       "4          2    89774               MMA  1445715200     Drama\n",
       "...      ...      ...               ...         ...       ...\n",
       "2376     610     3265  heroic bloodshed  1493843978     Drama\n",
       "2376     610     3265  heroic bloodshed  1493843978  Thriller\n",
       "2377     610   168248  Heroic Bloodshed  1493844270    Action\n",
       "2377     610   168248  Heroic Bloodshed  1493844270     Crime\n",
       "2377     610   168248  Heroic Bloodshed  1493844270  Thriller\n",
       "\n",
       "[6664 rows x 5 columns]"
      ]
     },
     "execution_count": 33,
     "metadata": {},
     "output_type": "execute_result"
    }
   ],
   "source": [
    "# Étape 5 : Agrégation finale : genre ↔ tag ↔ count\n",
    "\n",
    "# On \"explose\" les genres s'ils sont séparés par \"|\"\n",
    "tagged_high_ratings['genres'] = tagged_high_ratings['genres'].str.split('|')\n",
    "tagged_exploded = tagged_high_ratings.explode('genres')\n",
    "\n",
    "tagged_exploded"
   ]
  },
  {
   "cell_type": "code",
   "execution_count": 34,
   "id": "dc2c00b0",
   "metadata": {},
   "outputs": [
    {
     "data": {
      "application/vnd.microsoft.datawrangler.viewer.v0+json": {
       "columns": [
        {
         "name": "index",
         "rawType": "int64",
         "type": "integer"
        },
        {
         "name": "genres",
         "rawType": "object",
         "type": "string"
        },
        {
         "name": "tag",
         "rawType": "object",
         "type": "string"
        },
        {
         "name": "count",
         "rawType": "int64",
         "type": "integer"
        }
       ],
       "ref": "c4a2a2a3-749e-4d4a-8428-ec5b3289ac01",
       "rows": [
        [
         "1971",
         "Drama",
         "In Netflix queue",
         "20"
        ],
        [
         "2159",
         "Drama",
         "atmospheric",
         "19"
        ],
        [
         "4321",
         "Thriller",
         "twist ending",
         "16"
        ],
        [
         "3280",
         "Mystery",
         "twist ending",
         "14"
        ],
        [
         "4304",
         "Thriller",
         "suspense",
         "14"
        ],
        [
         "1089",
         "Comedy",
         "dark comedy",
         "13"
        ],
        [
         "2665",
         "Drama",
         "thought-provoking",
         "13"
        ],
        [
         "2682",
         "Drama",
         "twist ending",
         "13"
        ],
        [
         "1566",
         "Crime",
         "dark comedy",
         "12"
        ],
        [
         "342",
         "Action",
         "superhero",
         "12"
        ],
        [
         "2552",
         "Drama",
         "psychology",
         "12"
        ],
        [
         "3789",
         "Sci-Fi",
         "sci-fi",
         "12"
        ],
        [
         "787",
         "Children",
         "Disney",
         "12"
        ],
        [
         "2648",
         "Drama",
         "surreal",
         "12"
        ],
        [
         "1132",
         "Comedy",
         "funny",
         "11"
        ],
        [
         "1038",
         "Comedy",
         "black comedy",
         "11"
        ],
        [
         "2576",
         "Drama",
         "religion",
         "11"
        ],
        [
         "3826",
         "Sci-Fi",
         "time travel",
         "11"
        ],
        [
         "665",
         "Animation",
         "Disney",
         "11"
        ],
        [
         "2274",
         "Drama",
         "dark comedy",
         "11"
        ],
        [
         "4243",
         "Thriller",
         "psychology",
         "11"
        ],
        [
         "2651",
         "Drama",
         "suspense",
         "10"
        ],
        [
         "688",
         "Animation",
         "anime",
         "10"
        ],
        [
         "2127",
         "Drama",
         "adolescence",
         "9"
        ],
        [
         "1781",
         "Crime",
         "twist ending",
         "9"
        ],
        [
         "1626",
         "Crime",
         "heist",
         "9"
        ],
        [
         "3994",
         "Thriller",
         "atmospheric",
         "9"
        ],
        [
         "1261",
         "Comedy",
         "quirky",
         "9"
        ],
        [
         "4309",
         "Thriller",
         "thought-provoking",
         "9"
        ],
        [
         "2273",
         "Drama",
         "dark",
         "9"
        ],
        [
         "318",
         "Action",
         "sci-fi",
         "9"
        ],
        [
         "1292",
         "Comedy",
         "satire",
         "8"
        ],
        [
         "2556",
         "Drama",
         "quirky",
         "8"
        ],
        [
         "3644",
         "Sci-Fi",
         "aliens",
         "8"
        ],
        [
         "3815",
         "Sci-Fi",
         "superhero",
         "8"
        ],
        [
         "1070",
         "Comedy",
         "comedy",
         "8"
        ],
        [
         "1557",
         "Crime",
         "crime",
         "8"
        ],
        [
         "1584",
         "Crime",
         "drugs",
         "8"
        ],
        [
         "4241",
         "Thriller",
         "psychological",
         "8"
        ],
        [
         "1998",
         "Drama",
         "Leonardo DiCaprio",
         "8"
        ],
        [
         "4190",
         "Thriller",
         "mindfuck",
         "8"
        ],
        [
         "4067",
         "Thriller",
         "dark comedy",
         "8"
        ],
        [
         "1154",
         "Comedy",
         "high school",
         "7"
        ],
        [
         "1317",
         "Comedy",
         "spoof",
         "7"
        ],
        [
         "396",
         "Adventure",
         "Disney",
         "7"
        ],
        [
         "610",
         "Adventure",
         "sci-fi",
         "7"
        ],
        [
         "2258",
         "Drama",
         "crime",
         "7"
        ],
        [
         "2550",
         "Drama",
         "psychological",
         "7"
        ],
        [
         "635",
         "Adventure",
         "superhero",
         "7"
        ],
        [
         "1973",
         "Drama",
         "India",
         "7"
        ]
       ],
       "shape": {
        "columns": 3,
        "rows": 4472
       }
      },
      "text/html": [
       "<div>\n",
       "<style scoped>\n",
       "    .dataframe tbody tr th:only-of-type {\n",
       "        vertical-align: middle;\n",
       "    }\n",
       "\n",
       "    .dataframe tbody tr th {\n",
       "        vertical-align: top;\n",
       "    }\n",
       "\n",
       "    .dataframe thead th {\n",
       "        text-align: right;\n",
       "    }\n",
       "</style>\n",
       "<table border=\"1\" class=\"dataframe\">\n",
       "  <thead>\n",
       "    <tr style=\"text-align: right;\">\n",
       "      <th></th>\n",
       "      <th>genres</th>\n",
       "      <th>tag</th>\n",
       "      <th>count</th>\n",
       "    </tr>\n",
       "  </thead>\n",
       "  <tbody>\n",
       "    <tr>\n",
       "      <th>1971</th>\n",
       "      <td>Drama</td>\n",
       "      <td>In Netflix queue</td>\n",
       "      <td>20</td>\n",
       "    </tr>\n",
       "    <tr>\n",
       "      <th>2159</th>\n",
       "      <td>Drama</td>\n",
       "      <td>atmospheric</td>\n",
       "      <td>19</td>\n",
       "    </tr>\n",
       "    <tr>\n",
       "      <th>4321</th>\n",
       "      <td>Thriller</td>\n",
       "      <td>twist ending</td>\n",
       "      <td>16</td>\n",
       "    </tr>\n",
       "    <tr>\n",
       "      <th>3280</th>\n",
       "      <td>Mystery</td>\n",
       "      <td>twist ending</td>\n",
       "      <td>14</td>\n",
       "    </tr>\n",
       "    <tr>\n",
       "      <th>4304</th>\n",
       "      <td>Thriller</td>\n",
       "      <td>suspense</td>\n",
       "      <td>14</td>\n",
       "    </tr>\n",
       "    <tr>\n",
       "      <th>...</th>\n",
       "      <td>...</td>\n",
       "      <td>...</td>\n",
       "      <td>...</td>\n",
       "    </tr>\n",
       "    <tr>\n",
       "      <th>18</th>\n",
       "      <td>Action</td>\n",
       "      <td>Borg</td>\n",
       "      <td>1</td>\n",
       "    </tr>\n",
       "    <tr>\n",
       "      <th>17</th>\n",
       "      <td>Action</td>\n",
       "      <td>Ben Stiller</td>\n",
       "      <td>1</td>\n",
       "    </tr>\n",
       "    <tr>\n",
       "      <th>4464</th>\n",
       "      <td>Western</td>\n",
       "      <td>oil</td>\n",
       "      <td>1</td>\n",
       "    </tr>\n",
       "    <tr>\n",
       "      <th>4463</th>\n",
       "      <td>Western</td>\n",
       "      <td>music</td>\n",
       "      <td>1</td>\n",
       "    </tr>\n",
       "    <tr>\n",
       "      <th>4462</th>\n",
       "      <td>Western</td>\n",
       "      <td>morality</td>\n",
       "      <td>1</td>\n",
       "    </tr>\n",
       "  </tbody>\n",
       "</table>\n",
       "<p>4472 rows × 3 columns</p>\n",
       "</div>"
      ],
      "text/plain": [
       "        genres               tag  count\n",
       "1971     Drama  In Netflix queue     20\n",
       "2159     Drama       atmospheric     19\n",
       "4321  Thriller      twist ending     16\n",
       "3280   Mystery      twist ending     14\n",
       "4304  Thriller          suspense     14\n",
       "...        ...               ...    ...\n",
       "18      Action              Borg      1\n",
       "17      Action       Ben Stiller      1\n",
       "4464   Western               oil      1\n",
       "4463   Western             music      1\n",
       "4462   Western          morality      1\n",
       "\n",
       "[4472 rows x 3 columns]"
      ]
     },
     "execution_count": 34,
     "metadata": {},
     "output_type": "execute_result"
    }
   ],
   "source": [
    "# Compter les combinaisons Genre / Tag\n",
    "genre_tag_summary = (\n",
    "    tagged_exploded\n",
    "    .groupby(['genres', 'tag'])\n",
    "    .size()\n",
    "    .reset_index(name='count')\n",
    "    .sort_values(by='count', ascending=False)\n",
    ")\n",
    "\n",
    "genre_tag_summary"
   ]
  },
  {
   "cell_type": "markdown",
   "id": "cf0a25fc",
   "metadata": {},
   "source": [
    "**Version duckdb**"
   ]
  },
  {
   "cell_type": "code",
   "execution_count": 37,
   "id": "a80f7240",
   "metadata": {},
   "outputs": [
    {
     "data": {
      "application/vnd.microsoft.datawrangler.viewer.v0+json": {
       "columns": [
        {
         "name": "index",
         "rawType": "int64",
         "type": "integer"
        },
        {
         "name": "genres",
         "rawType": "object",
         "type": "string"
        },
        {
         "name": "tag",
         "rawType": "object",
         "type": "string"
        },
        {
         "name": "count",
         "rawType": "int64",
         "type": "integer"
        }
       ],
       "ref": "686ab228-1b0e-4d64-b290-5951dbf1b33f",
       "rows": [
        [
         "0",
         "Drama",
         "In Netflix queue",
         "20"
        ],
        [
         "1",
         "Drama",
         "atmospheric",
         "19"
        ],
        [
         "2",
         "Thriller",
         "twist ending",
         "16"
        ],
        [
         "3",
         "Mystery",
         "twist ending",
         "14"
        ],
        [
         "4",
         "Thriller",
         "suspense",
         "14"
        ],
        [
         "5",
         "Drama",
         "twist ending",
         "13"
        ],
        [
         "6",
         "Comedy",
         "dark comedy",
         "13"
        ],
        [
         "7",
         "Drama",
         "thought-provoking",
         "13"
        ],
        [
         "8",
         "Crime",
         "dark comedy",
         "12"
        ],
        [
         "9",
         "Sci-Fi",
         "sci-fi",
         "12"
        ],
        [
         "10",
         "Action",
         "superhero",
         "12"
        ],
        [
         "11",
         "Children",
         "Disney",
         "12"
        ],
        [
         "12",
         "Drama",
         "psychology",
         "12"
        ],
        [
         "13",
         "Drama",
         "surreal",
         "12"
        ],
        [
         "14",
         "Animation",
         "Disney",
         "11"
        ],
        [
         "15",
         "Comedy",
         "black comedy",
         "11"
        ],
        [
         "16",
         "Drama",
         "dark comedy",
         "11"
        ],
        [
         "17",
         "Sci-Fi",
         "time travel",
         "11"
        ],
        [
         "18",
         "Drama",
         "religion",
         "11"
        ],
        [
         "19",
         "Comedy",
         "funny",
         "11"
        ],
        [
         "20",
         "Thriller",
         "psychology",
         "11"
        ],
        [
         "21",
         "Drama",
         "suspense",
         "10"
        ],
        [
         "22",
         "Animation",
         "anime",
         "10"
        ],
        [
         "23",
         "Thriller",
         "thought-provoking",
         "9"
        ],
        [
         "24",
         "Crime",
         "heist",
         "9"
        ],
        [
         "25",
         "Crime",
         "twist ending",
         "9"
        ],
        [
         "26",
         "Drama",
         "dark",
         "9"
        ],
        [
         "27",
         "Comedy",
         "quirky",
         "9"
        ],
        [
         "28",
         "Action",
         "sci-fi",
         "9"
        ],
        [
         "29",
         "Thriller",
         "atmospheric",
         "9"
        ],
        [
         "30",
         "Drama",
         "adolescence",
         "9"
        ],
        [
         "31",
         "Comedy",
         "satire",
         "8"
        ],
        [
         "32",
         "Drama",
         "Leonardo DiCaprio",
         "8"
        ],
        [
         "33",
         "Drama",
         "quirky",
         "8"
        ],
        [
         "34",
         "Thriller",
         "mindfuck",
         "8"
        ],
        [
         "35",
         "Sci-Fi",
         "aliens",
         "8"
        ],
        [
         "36",
         "Comedy",
         "comedy",
         "8"
        ],
        [
         "37",
         "Sci-Fi",
         "superhero",
         "8"
        ],
        [
         "38",
         "Crime",
         "crime",
         "8"
        ],
        [
         "39",
         "Crime",
         "drugs",
         "8"
        ],
        [
         "40",
         "Thriller",
         "dark comedy",
         "8"
        ],
        [
         "41",
         "Thriller",
         "psychological",
         "8"
        ],
        [
         "42",
         "Adventure",
         "superhero",
         "7"
        ],
        [
         "43",
         "Fantasy",
         "anime",
         "7"
        ],
        [
         "44",
         "Drama",
         "psychological",
         "7"
        ],
        [
         "45",
         "Crime",
         "suspense",
         "7"
        ],
        [
         "46",
         "Action",
         "action",
         "7"
        ],
        [
         "47",
         "Drama",
         "India",
         "7"
        ],
        [
         "48",
         "Adventure",
         "Disney",
         "7"
        ],
        [
         "49",
         "Comedy",
         "spoof",
         "7"
        ]
       ],
       "shape": {
        "columns": 3,
        "rows": 4472
       }
      },
      "text/html": [
       "<div>\n",
       "<style scoped>\n",
       "    .dataframe tbody tr th:only-of-type {\n",
       "        vertical-align: middle;\n",
       "    }\n",
       "\n",
       "    .dataframe tbody tr th {\n",
       "        vertical-align: top;\n",
       "    }\n",
       "\n",
       "    .dataframe thead th {\n",
       "        text-align: right;\n",
       "    }\n",
       "</style>\n",
       "<table border=\"1\" class=\"dataframe\">\n",
       "  <thead>\n",
       "    <tr style=\"text-align: right;\">\n",
       "      <th></th>\n",
       "      <th>genres</th>\n",
       "      <th>tag</th>\n",
       "      <th>count</th>\n",
       "    </tr>\n",
       "  </thead>\n",
       "  <tbody>\n",
       "    <tr>\n",
       "      <th>0</th>\n",
       "      <td>Drama</td>\n",
       "      <td>In Netflix queue</td>\n",
       "      <td>20</td>\n",
       "    </tr>\n",
       "    <tr>\n",
       "      <th>1</th>\n",
       "      <td>Drama</td>\n",
       "      <td>atmospheric</td>\n",
       "      <td>19</td>\n",
       "    </tr>\n",
       "    <tr>\n",
       "      <th>2</th>\n",
       "      <td>Thriller</td>\n",
       "      <td>twist ending</td>\n",
       "      <td>16</td>\n",
       "    </tr>\n",
       "    <tr>\n",
       "      <th>3</th>\n",
       "      <td>Mystery</td>\n",
       "      <td>twist ending</td>\n",
       "      <td>14</td>\n",
       "    </tr>\n",
       "    <tr>\n",
       "      <th>4</th>\n",
       "      <td>Thriller</td>\n",
       "      <td>suspense</td>\n",
       "      <td>14</td>\n",
       "    </tr>\n",
       "    <tr>\n",
       "      <th>...</th>\n",
       "      <td>...</td>\n",
       "      <td>...</td>\n",
       "      <td>...</td>\n",
       "    </tr>\n",
       "    <tr>\n",
       "      <th>4467</th>\n",
       "      <td>Thriller</td>\n",
       "      <td>Nudity (Topless)</td>\n",
       "      <td>1</td>\n",
       "    </tr>\n",
       "    <tr>\n",
       "      <th>4468</th>\n",
       "      <td>Crime</td>\n",
       "      <td>postmodern</td>\n",
       "      <td>1</td>\n",
       "    </tr>\n",
       "    <tr>\n",
       "      <th>4469</th>\n",
       "      <td>Crime</td>\n",
       "      <td>societal criticism</td>\n",
       "      <td>1</td>\n",
       "    </tr>\n",
       "    <tr>\n",
       "      <th>4470</th>\n",
       "      <td>Thriller</td>\n",
       "      <td>for katie</td>\n",
       "      <td>1</td>\n",
       "    </tr>\n",
       "    <tr>\n",
       "      <th>4471</th>\n",
       "      <td>Drama</td>\n",
       "      <td>gun fu</td>\n",
       "      <td>1</td>\n",
       "    </tr>\n",
       "  </tbody>\n",
       "</table>\n",
       "<p>4472 rows × 3 columns</p>\n",
       "</div>"
      ],
      "text/plain": [
       "        genres                 tag  count\n",
       "0        Drama    In Netflix queue     20\n",
       "1        Drama         atmospheric     19\n",
       "2     Thriller        twist ending     16\n",
       "3      Mystery        twist ending     14\n",
       "4     Thriller            suspense     14\n",
       "...        ...                 ...    ...\n",
       "4467  Thriller    Nudity (Topless)      1\n",
       "4468     Crime          postmodern      1\n",
       "4469     Crime  societal criticism      1\n",
       "4470  Thriller           for katie      1\n",
       "4471     Drama              gun fu      1\n",
       "\n",
       "[4472 rows x 3 columns]"
      ]
     },
     "execution_count": 37,
     "metadata": {},
     "output_type": "execute_result"
    }
   ],
   "source": [
    "duckdb.sql(\"\"\" SELECT genres, tag, COUNT( genres||tag) as count FROM tagged_exploded\n",
    "           GROUP BY genres, tag\n",
    "           ORDER BY count DESC;\n",
    "\"\"\").df()"
   ]
  },
  {
   "cell_type": "markdown",
   "id": "5861ac3b",
   "metadata": {},
   "source": [
    "Ce tableau `genre_tag_summary` fournit une **analyse croisée entre les genres de films et les tags les plus utilisés** par les utilisateurs qui ont **attribué une note élevée** (`rating >= 4.0`). Voici quelques commentaires et interprétations intéressantes :\n",
    "\n",
    "---\n",
    "\n",
    "### **Ce que le tableau montre**\n",
    "- Chaque ligne représente une combinaison unique de **genre** et de **tag**.\n",
    "- La colonne `count` indique **le nombre de fois** qu’un certain **tag** a été associé à un film d’un certain **genre**, dans le contexte d’une **note élevée**.\n",
    "- Exemple :  \n",
    "  - `Drama` + `In Netflix queue` a été tagué **20 fois** pour des films bien notés de genre `Drama`.\n",
    "  - `Thriller` + `twist ending` a été tagué **16 fois**, ce qui donne des indices sur ce que les gens aiment dans les thrillers.\n",
    "\n",
    "---\n",
    "\n",
    "### **Interprétations business**\n",
    "1. **Découverte des préférences spectateurs par genre :**\n",
    "   - Les utilisateurs aiment les **films dramatiques** qu’ils prévoient de regarder plus tard (`In Netflix queue`) — ce tag peut refléter de l'intérêt ou de la recommandation indirecte.\n",
    "   - Les **Thrillers** avec des `twist endings` ou une ambiance `suspense` sont particulièrement appréciés → à prioriser pour la recommandation.\n",
    "\n",
    "2. **Utilité pour un moteur de recommandation :**\n",
    "   - En analysant les tags les plus associés à des films bien notés dans chaque genre, on peut mieux orienter les recommandations personnalisées.\n",
    "   - Par exemple, recommander des **films “Mystery” avec des twists** à ceux qui aiment les “Thrillers” bien notés avec ce tag.\n",
    "\n",
    "3. **Insights marketing / catégorisation :**\n",
    "   - Les plateformes peuvent créer des catégories comme :\n",
    "     - “**Mystery with a Twist**”\n",
    "     - “**Atmospheric Dramas**”\n",
    "     - “**Suspenseful Thrillers**”\n",
    "   - Ces regroupements peuvent améliorer l’engagement en renforçant la correspondance entre ce que les gens aiment et ce qu’on leur propose.\n",
    "\n",
    "---\n",
    "\n",
    "### À noter :\n",
    "- Ce tableau est basé **uniquement sur les films bien notés**, ce qui biaise volontairement l’analyse pour extraire **ce que les utilisateurs apprécient**.\n",
    "- Les tags sont **libres**, donc il peut y avoir du bruit (noms d’acteurs, fautes de frappe, etc.).\n",
    "- Une étape de **nettoyage/normalisation des tags** pourrait encore améliorer l’analyse.\n",
    "\n",
    "---\n",
    "\n",
    "On peut aussi explorer les **tags associés aux films mal notés**. On pourrait comparer les deux profils de tags pour voir ce qui plaît ou non dans chaque genre."
   ]
  }
 ],
 "metadata": {
  "kernelspec": {
   "display_name": ".venv",
   "language": "python",
   "name": "python3"
  },
  "language_info": {
   "codemirror_mode": {
    "name": "ipython",
    "version": 3
   },
   "file_extension": ".py",
   "mimetype": "text/x-python",
   "name": "python",
   "nbconvert_exporter": "python",
   "pygments_lexer": "ipython3",
   "version": "3.13.7"
  }
 },
 "nbformat": 4,
 "nbformat_minor": 5
}
